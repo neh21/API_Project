{
  "nbformat": 4,
  "nbformat_minor": 0,
  "metadata": {
    "accelerator": "GPU",
    "colab": {
      "name": "Model_implimentation.ipynb",
      "provenance": [],
      "collapsed_sections": [],
      "toc_visible": true
    },
    "kernelspec": {
      "display_name": "Python 3",
      "language": "python",
      "name": "python3"
    },
    "language_info": {
      "codemirror_mode": {
        "name": "ipython",
        "version": 3
      },
      "file_extension": ".py",
      "mimetype": "text/x-python",
      "name": "python",
      "nbconvert_exporter": "python",
      "pygments_lexer": "ipython3",
      "version": "3.8.3"
    }
  },
  "cells": [
    {
      "cell_type": "markdown",
      "metadata": {
        "id": "ZaH_dua6U8n-"
      },
      "source": [
        "## Mount Drive"
      ]
    },
    {
      "cell_type": "code",
      "metadata": {
        "colab": {
          "base_uri": "https://localhost:8080/"
        },
        "id": "KAZAh5m2vUIN",
        "outputId": "15bc87f9-c2c8-48cc-9c8a-e0090fbee947"
      },
      "source": [
        "from google.colab import drive\n",
        "drive.mount('/content/drive')"
      ],
      "execution_count": 2,
      "outputs": [
        {
          "output_type": "stream",
          "text": [
            "Mounted at /content/drive\n"
          ],
          "name": "stdout"
        }
      ]
    },
    {
      "cell_type": "markdown",
      "metadata": {
        "id": "iB6sr2K9VC9P"
      },
      "source": [
        "# Import Libraries"
      ]
    },
    {
      "cell_type": "code",
      "metadata": {
        "id": "AUG2Kos7UHSW"
      },
      "source": [
        "import numpy as np\n",
        "import pandas as pd\n",
        "import matplotlib\n",
        "import matplotlib.pyplot as plt\n",
        "\n",
        "from sklearn.model_selection import train_test_split\n",
        "\n",
        "from sklearn.ensemble import RandomForestRegressor\n",
        "from sklearn import linear_model\n",
        "from sklearn.metrics import mean_squared_error,mean_squared_log_error\n",
        "from sklearn.metrics import r2_score\n",
        "\n",
        "import warnings\n",
        "warnings.filterwarnings(\"ignore\")"
      ],
      "execution_count": 3,
      "outputs": []
    },
    {
      "cell_type": "code",
      "metadata": {
        "colab": {
          "base_uri": "https://localhost:8080/",
          "height": 211
        },
        "id": "lVEj_hZZUHSc",
        "outputId": "63a9ce96-28ec-435f-c5c3-1fa5d769ee9f"
      },
      "source": [
        "dataset='/content/drive/MyDrive/Retail Sales Time Series Forecasting/feature_engineering/feature_engineering.csv'\n",
        "df=pd.read_csv(dataset)\n",
        "df.drop('Date',axis=1,inplace=True)\n",
        "df.head()"
      ],
      "execution_count": 4,
      "outputs": [
        {
          "output_type": "execute_result",
          "data": {
            "text/html": [
              "<div>\n",
              "<style scoped>\n",
              "    .dataframe tbody tr th:only-of-type {\n",
              "        vertical-align: middle;\n",
              "    }\n",
              "\n",
              "    .dataframe tbody tr th {\n",
              "        vertical-align: top;\n",
              "    }\n",
              "\n",
              "    .dataframe thead th {\n",
              "        text-align: right;\n",
              "    }\n",
              "</style>\n",
              "<table border=\"1\" class=\"dataframe\">\n",
              "  <thead>\n",
              "    <tr style=\"text-align: right;\">\n",
              "      <th></th>\n",
              "      <th>Store</th>\n",
              "      <th>StoreType</th>\n",
              "      <th>Assortment</th>\n",
              "      <th>CompetitionDistance</th>\n",
              "      <th>CompetitionOpenSinceMonth</th>\n",
              "      <th>CompetitionOpenSinceYear</th>\n",
              "      <th>Promo2</th>\n",
              "      <th>Promo2SinceWeek</th>\n",
              "      <th>Promo2SinceYear</th>\n",
              "      <th>PromoInterval</th>\n",
              "      <th>DayOfWeek</th>\n",
              "      <th>Sales</th>\n",
              "      <th>Customers</th>\n",
              "      <th>Open</th>\n",
              "      <th>Promo</th>\n",
              "      <th>StateHoliday</th>\n",
              "      <th>SchoolHoliday</th>\n",
              "      <th>Open_0</th>\n",
              "      <th>Open_1</th>\n",
              "      <th>Promo2_0</th>\n",
              "      <th>Promo2_1</th>\n",
              "      <th>SchoolHoliday_0</th>\n",
              "      <th>SchoolHoliday_1</th>\n",
              "      <th>StoreType_a</th>\n",
              "      <th>StoreType_b</th>\n",
              "      <th>StoreType_c</th>\n",
              "      <th>StoreType_d</th>\n",
              "      <th>PromoInterval_0</th>\n",
              "      <th>PromoInterval_Feb_May_Aug_Nov</th>\n",
              "      <th>PromoInterval_Jan_Apr_Jul_Oct</th>\n",
              "      <th>PromoInterval_Mar_Jun_Sept_Dec</th>\n",
              "      <th>StateHoliday_0</th>\n",
              "      <th>StateHoliday_a</th>\n",
              "      <th>StateHoliday_b</th>\n",
              "      <th>StateHoliday_c</th>\n",
              "      <th>date_year</th>\n",
              "      <th>date_weekofyear</th>\n",
              "      <th>date_month</th>\n",
              "      <th>date_dayofweek</th>\n",
              "      <th>date_day</th>\n",
              "    </tr>\n",
              "  </thead>\n",
              "  <tbody>\n",
              "    <tr>\n",
              "      <th>0</th>\n",
              "      <td>1</td>\n",
              "      <td>2</td>\n",
              "      <td>0</td>\n",
              "      <td>1270.0</td>\n",
              "      <td>9.0</td>\n",
              "      <td>2008.0</td>\n",
              "      <td>0</td>\n",
              "      <td>0.0</td>\n",
              "      <td>0.0</td>\n",
              "      <td>0</td>\n",
              "      <td>4</td>\n",
              "      <td>5263</td>\n",
              "      <td>555</td>\n",
              "      <td>1</td>\n",
              "      <td>1</td>\n",
              "      <td>0</td>\n",
              "      <td>1</td>\n",
              "      <td>0</td>\n",
              "      <td>1</td>\n",
              "      <td>1</td>\n",
              "      <td>0</td>\n",
              "      <td>0</td>\n",
              "      <td>1</td>\n",
              "      <td>0</td>\n",
              "      <td>0</td>\n",
              "      <td>1</td>\n",
              "      <td>0</td>\n",
              "      <td>1</td>\n",
              "      <td>0</td>\n",
              "      <td>0</td>\n",
              "      <td>0</td>\n",
              "      <td>1</td>\n",
              "      <td>0</td>\n",
              "      <td>0</td>\n",
              "      <td>0</td>\n",
              "      <td>2015</td>\n",
              "      <td>31</td>\n",
              "      <td>7</td>\n",
              "      <td>4</td>\n",
              "      <td>31</td>\n",
              "    </tr>\n",
              "    <tr>\n",
              "      <th>1</th>\n",
              "      <td>1</td>\n",
              "      <td>2</td>\n",
              "      <td>0</td>\n",
              "      <td>1270.0</td>\n",
              "      <td>9.0</td>\n",
              "      <td>2008.0</td>\n",
              "      <td>0</td>\n",
              "      <td>0.0</td>\n",
              "      <td>0.0</td>\n",
              "      <td>0</td>\n",
              "      <td>3</td>\n",
              "      <td>5020</td>\n",
              "      <td>546</td>\n",
              "      <td>1</td>\n",
              "      <td>1</td>\n",
              "      <td>0</td>\n",
              "      <td>1</td>\n",
              "      <td>0</td>\n",
              "      <td>1</td>\n",
              "      <td>1</td>\n",
              "      <td>0</td>\n",
              "      <td>0</td>\n",
              "      <td>1</td>\n",
              "      <td>0</td>\n",
              "      <td>0</td>\n",
              "      <td>1</td>\n",
              "      <td>0</td>\n",
              "      <td>1</td>\n",
              "      <td>0</td>\n",
              "      <td>0</td>\n",
              "      <td>0</td>\n",
              "      <td>1</td>\n",
              "      <td>0</td>\n",
              "      <td>0</td>\n",
              "      <td>0</td>\n",
              "      <td>2015</td>\n",
              "      <td>31</td>\n",
              "      <td>7</td>\n",
              "      <td>3</td>\n",
              "      <td>30</td>\n",
              "    </tr>\n",
              "    <tr>\n",
              "      <th>2</th>\n",
              "      <td>1</td>\n",
              "      <td>2</td>\n",
              "      <td>0</td>\n",
              "      <td>1270.0</td>\n",
              "      <td>9.0</td>\n",
              "      <td>2008.0</td>\n",
              "      <td>0</td>\n",
              "      <td>0.0</td>\n",
              "      <td>0.0</td>\n",
              "      <td>0</td>\n",
              "      <td>2</td>\n",
              "      <td>4782</td>\n",
              "      <td>523</td>\n",
              "      <td>1</td>\n",
              "      <td>1</td>\n",
              "      <td>0</td>\n",
              "      <td>1</td>\n",
              "      <td>0</td>\n",
              "      <td>1</td>\n",
              "      <td>1</td>\n",
              "      <td>0</td>\n",
              "      <td>0</td>\n",
              "      <td>1</td>\n",
              "      <td>0</td>\n",
              "      <td>0</td>\n",
              "      <td>1</td>\n",
              "      <td>0</td>\n",
              "      <td>1</td>\n",
              "      <td>0</td>\n",
              "      <td>0</td>\n",
              "      <td>0</td>\n",
              "      <td>1</td>\n",
              "      <td>0</td>\n",
              "      <td>0</td>\n",
              "      <td>0</td>\n",
              "      <td>2015</td>\n",
              "      <td>31</td>\n",
              "      <td>7</td>\n",
              "      <td>2</td>\n",
              "      <td>29</td>\n",
              "    </tr>\n",
              "    <tr>\n",
              "      <th>3</th>\n",
              "      <td>1</td>\n",
              "      <td>2</td>\n",
              "      <td>0</td>\n",
              "      <td>1270.0</td>\n",
              "      <td>9.0</td>\n",
              "      <td>2008.0</td>\n",
              "      <td>0</td>\n",
              "      <td>0.0</td>\n",
              "      <td>0.0</td>\n",
              "      <td>0</td>\n",
              "      <td>1</td>\n",
              "      <td>5011</td>\n",
              "      <td>560</td>\n",
              "      <td>1</td>\n",
              "      <td>1</td>\n",
              "      <td>0</td>\n",
              "      <td>1</td>\n",
              "      <td>0</td>\n",
              "      <td>1</td>\n",
              "      <td>1</td>\n",
              "      <td>0</td>\n",
              "      <td>0</td>\n",
              "      <td>1</td>\n",
              "      <td>0</td>\n",
              "      <td>0</td>\n",
              "      <td>1</td>\n",
              "      <td>0</td>\n",
              "      <td>1</td>\n",
              "      <td>0</td>\n",
              "      <td>0</td>\n",
              "      <td>0</td>\n",
              "      <td>1</td>\n",
              "      <td>0</td>\n",
              "      <td>0</td>\n",
              "      <td>0</td>\n",
              "      <td>2015</td>\n",
              "      <td>31</td>\n",
              "      <td>7</td>\n",
              "      <td>1</td>\n",
              "      <td>28</td>\n",
              "    </tr>\n",
              "    <tr>\n",
              "      <th>4</th>\n",
              "      <td>1</td>\n",
              "      <td>2</td>\n",
              "      <td>0</td>\n",
              "      <td>1270.0</td>\n",
              "      <td>9.0</td>\n",
              "      <td>2008.0</td>\n",
              "      <td>0</td>\n",
              "      <td>0.0</td>\n",
              "      <td>0.0</td>\n",
              "      <td>0</td>\n",
              "      <td>0</td>\n",
              "      <td>6102</td>\n",
              "      <td>612</td>\n",
              "      <td>1</td>\n",
              "      <td>1</td>\n",
              "      <td>0</td>\n",
              "      <td>1</td>\n",
              "      <td>0</td>\n",
              "      <td>1</td>\n",
              "      <td>1</td>\n",
              "      <td>0</td>\n",
              "      <td>0</td>\n",
              "      <td>1</td>\n",
              "      <td>0</td>\n",
              "      <td>0</td>\n",
              "      <td>1</td>\n",
              "      <td>0</td>\n",
              "      <td>1</td>\n",
              "      <td>0</td>\n",
              "      <td>0</td>\n",
              "      <td>0</td>\n",
              "      <td>1</td>\n",
              "      <td>0</td>\n",
              "      <td>0</td>\n",
              "      <td>0</td>\n",
              "      <td>2015</td>\n",
              "      <td>31</td>\n",
              "      <td>7</td>\n",
              "      <td>0</td>\n",
              "      <td>27</td>\n",
              "    </tr>\n",
              "  </tbody>\n",
              "</table>\n",
              "</div>"
            ],
            "text/plain": [
              "   Store  StoreType  Assortment  ...  date_month  date_dayofweek  date_day\n",
              "0      1          2           0  ...           7               4        31\n",
              "1      1          2           0  ...           7               3        30\n",
              "2      1          2           0  ...           7               2        29\n",
              "3      1          2           0  ...           7               1        28\n",
              "4      1          2           0  ...           7               0        27\n",
              "\n",
              "[5 rows x 40 columns]"
            ]
          },
          "metadata": {
            "tags": []
          },
          "execution_count": 4
        }
      ]
    },
    {
      "cell_type": "code",
      "metadata": {
        "colab": {
          "base_uri": "https://localhost:8080/"
        },
        "id": "cxBUO5tZUHSh",
        "outputId": "60ee6b5a-1eed-4ad8-9e38-91bd1877617f"
      },
      "source": [
        "df.info()"
      ],
      "execution_count": 5,
      "outputs": [
        {
          "output_type": "stream",
          "text": [
            "<class 'pandas.core.frame.DataFrame'>\n",
            "RangeIndex: 1017209 entries, 0 to 1017208\n",
            "Data columns (total 40 columns):\n",
            " #   Column                          Non-Null Count    Dtype  \n",
            "---  ------                          --------------    -----  \n",
            " 0   Store                           1017209 non-null  int64  \n",
            " 1   StoreType                       1017209 non-null  int64  \n",
            " 2   Assortment                      1017209 non-null  int64  \n",
            " 3   CompetitionDistance             1017209 non-null  float64\n",
            " 4   CompetitionOpenSinceMonth       1017209 non-null  float64\n",
            " 5   CompetitionOpenSinceYear        1017209 non-null  float64\n",
            " 6   Promo2                          1017209 non-null  int64  \n",
            " 7   Promo2SinceWeek                 1017209 non-null  float64\n",
            " 8   Promo2SinceYear                 1017209 non-null  float64\n",
            " 9   PromoInterval                   1017209 non-null  int64  \n",
            " 10  DayOfWeek                       1017209 non-null  int64  \n",
            " 11  Sales                           1017209 non-null  int64  \n",
            " 12  Customers                       1017209 non-null  int64  \n",
            " 13  Open                            1017209 non-null  int64  \n",
            " 14  Promo                           1017209 non-null  int64  \n",
            " 15  StateHoliday                    1017209 non-null  int64  \n",
            " 16  SchoolHoliday                   1017209 non-null  int64  \n",
            " 17  Open_0                          1017209 non-null  int64  \n",
            " 18  Open_1                          1017209 non-null  int64  \n",
            " 19  Promo2_0                        1017209 non-null  int64  \n",
            " 20  Promo2_1                        1017209 non-null  int64  \n",
            " 21  SchoolHoliday_0                 1017209 non-null  int64  \n",
            " 22  SchoolHoliday_1                 1017209 non-null  int64  \n",
            " 23  StoreType_a                     1017209 non-null  int64  \n",
            " 24  StoreType_b                     1017209 non-null  int64  \n",
            " 25  StoreType_c                     1017209 non-null  int64  \n",
            " 26  StoreType_d                     1017209 non-null  int64  \n",
            " 27  PromoInterval_0                 1017209 non-null  int64  \n",
            " 28  PromoInterval_Feb_May_Aug_Nov   1017209 non-null  int64  \n",
            " 29  PromoInterval_Jan_Apr_Jul_Oct   1017209 non-null  int64  \n",
            " 30  PromoInterval_Mar_Jun_Sept_Dec  1017209 non-null  int64  \n",
            " 31  StateHoliday_0                  1017209 non-null  int64  \n",
            " 32  StateHoliday_a                  1017209 non-null  int64  \n",
            " 33  StateHoliday_b                  1017209 non-null  int64  \n",
            " 34  StateHoliday_c                  1017209 non-null  int64  \n",
            " 35  date_year                       1017209 non-null  int64  \n",
            " 36  date_weekofyear                 1017209 non-null  int64  \n",
            " 37  date_month                      1017209 non-null  int64  \n",
            " 38  date_dayofweek                  1017209 non-null  int64  \n",
            " 39  date_day                        1017209 non-null  int64  \n",
            "dtypes: float64(5), int64(35)\n",
            "memory usage: 310.4 MB\n"
          ],
          "name": "stdout"
        }
      ]
    },
    {
      "cell_type": "markdown",
      "metadata": {
        "id": "BnslPnS6UHSl"
      },
      "source": [
        "# Normalization"
      ]
    },
    {
      "cell_type": "code",
      "metadata": {
        "id": "A-SFFPPAUHSm"
      },
      "source": [
        "from sklearn.preprocessing import MinMaxScaler\n",
        "from sklearn.preprocessing import StandardScaler\n",
        "\n",
        "norm = MinMaxScaler()\n",
        "\n",
        "#norm = StandardScaler()\n",
        "CompetitionDistance=norm.fit_transform(df[['CompetitionDistance','Sales']].values)[:,0]\n",
        "Customers=norm.fit_transform(df[['Customers','Sales']].values)[:,0]"
      ],
      "execution_count": 6,
      "outputs": []
    },
    {
      "cell_type": "code",
      "metadata": {
        "id": "iZEMiTbKUHSq"
      },
      "source": [
        "df['CompetitionDistance']=CompetitionDistance\n",
        "df['Customers']=Customers"
      ],
      "execution_count": 7,
      "outputs": []
    },
    {
      "cell_type": "code",
      "metadata": {
        "id": "QAKZfEhkUHSu"
      },
      "source": [
        "y=df['Sales']\n",
        "X=df.drop('Sales',axis=1)"
      ],
      "execution_count": 8,
      "outputs": []
    },
    {
      "cell_type": "code",
      "metadata": {
        "colab": {
          "base_uri": "https://localhost:8080/"
        },
        "id": "72SlTbuTUHSy",
        "outputId": "a3f2c6e8-9b7c-4880-f6b6-c36cd6a895b3"
      },
      "source": [
        "print(X.shape)"
      ],
      "execution_count": 9,
      "outputs": [
        {
          "output_type": "stream",
          "text": [
            "(1017209, 39)\n"
          ],
          "name": "stdout"
        }
      ]
    },
    {
      "cell_type": "code",
      "metadata": {
        "id": "p4_B-n9SUHS2"
      },
      "source": [
        "def adjusted_r2(x_test,r2):\n",
        "    return 1-(1-r2)*((len(x_test)-1)/(len(x_test)-x_test.shape[1]-1))"
      ],
      "execution_count": 10,
      "outputs": []
    },
    {
      "cell_type": "code",
      "metadata": {
        "id": "jRRNR7_WUHS8"
      },
      "source": [
        "#accuracy dataframe that store accuracy of models\n",
        "accuracy=pd.DataFrame(columns=['Train Adjusted R2','Test Adjusted R2'])"
      ],
      "execution_count": 11,
      "outputs": []
    },
    {
      "cell_type": "markdown",
      "metadata": {
        "id": "ZXWNXnC0UHS_"
      },
      "source": [
        "# Feature Selection"
      ]
    },
    {
      "cell_type": "code",
      "metadata": {
        "colab": {
          "base_uri": "https://localhost:8080/"
        },
        "id": "YxpDG9-9UHTA",
        "outputId": "5539e17b-2e26-47f8-946a-e52dbe975561"
      },
      "source": [
        "#X=df[cols8+['Sales']].copy()\n",
        "X=df.copy()\n",
        "y=df['Sales'].values\n",
        "X.drop(['Sales'],axis=1,inplace=True)\n",
        "\n",
        "X_train, X_test, y_train, y_test = train_test_split(X, y, test_size=0.2, random_state=42)\n",
        "\n",
        "print(X_train.shape)\n",
        "print(X_test.shape)"
      ],
      "execution_count": 12,
      "outputs": [
        {
          "output_type": "stream",
          "text": [
            "(813767, 39)\n",
            "(203442, 39)\n"
          ],
          "name": "stdout"
        }
      ]
    },
    {
      "cell_type": "code",
      "metadata": {
        "colab": {
          "base_uri": "https://localhost:8080/"
        },
        "id": "44iYExTdUHTE",
        "outputId": "d630d434-c28e-4413-fc9f-c9493bf3ecbe"
      },
      "source": [
        "from sklearn.feature_selection import SelectFromModel\n",
        "sel_ = SelectFromModel(linear_model.Lasso(alpha=0.1),max_features=20)\n",
        "sel_.fit(X, y)"
      ],
      "execution_count": 13,
      "outputs": [
        {
          "output_type": "execute_result",
          "data": {
            "text/plain": [
              "SelectFromModel(estimator=Lasso(alpha=0.1, copy_X=True, fit_intercept=True,\n",
              "                                max_iter=1000, normalize=False, positive=False,\n",
              "                                precompute=False, random_state=None,\n",
              "                                selection='cyclic', tol=0.0001,\n",
              "                                warm_start=False),\n",
              "                max_features=20, norm_order=1, prefit=False, threshold=None)"
            ]
          },
          "metadata": {
            "tags": []
          },
          "execution_count": 13
        }
      ]
    },
    {
      "cell_type": "code",
      "metadata": {
        "id": "SlRWzGtAUHTI"
      },
      "source": [
        "selected_feat = X.columns[(sel_.get_support())]"
      ],
      "execution_count": 14,
      "outputs": []
    },
    {
      "cell_type": "code",
      "metadata": {
        "colab": {
          "base_uri": "https://localhost:8080/"
        },
        "id": "zOqZDho2UHTM",
        "outputId": "180c8838-8f7f-4a33-91a6-605f0b73dccf"
      },
      "source": [
        "selected_feat"
      ],
      "execution_count": 15,
      "outputs": [
        {
          "output_type": "execute_result",
          "data": {
            "text/plain": [
              "Index(['Assortment', 'CompetitionDistance', 'PromoInterval', 'DayOfWeek',\n",
              "       'Customers', 'Open', 'Promo', 'SchoolHoliday', 'Promo2_0',\n",
              "       'StoreType_b', 'StoreType_c', 'StoreType_d',\n",
              "       'PromoInterval_Mar_Jun_Sept_Dec', 'StateHoliday_0', 'StateHoliday_a',\n",
              "       'StateHoliday_b', 'StateHoliday_c', 'date_year', 'date_month',\n",
              "       'date_dayofweek'],\n",
              "      dtype='object')"
            ]
          },
          "metadata": {
            "tags": []
          },
          "execution_count": 15
        }
      ]
    },
    {
      "cell_type": "markdown",
      "metadata": {
        "id": "WE6lV8dnUHTP"
      },
      "source": [
        "# ML Models"
      ]
    },
    {
      "cell_type": "markdown",
      "metadata": {
        "id": "v_TAXsQAUHTQ"
      },
      "source": [
        "## 1. Lasso Regressor"
      ]
    },
    {
      "cell_type": "code",
      "metadata": {
        "id": "X6dzOVIXUHTR"
      },
      "source": [
        "#split dataset for selected features\n",
        "X_train, X_test, y_train, y_test = train_test_split(X[selected_feat], y, test_size=0.2, random_state=42)"
      ],
      "execution_count": 16,
      "outputs": []
    },
    {
      "cell_type": "code",
      "metadata": {
        "colab": {
          "base_uri": "https://localhost:8080/"
        },
        "id": "bY5K19aGUHTU",
        "outputId": "257e76b7-b048-49ea-8b09-f51f8402bddc"
      },
      "source": [
        "print(X_train.shape,y_train.shape)\n",
        "print(X_test.shape,y_test.shape)"
      ],
      "execution_count": 17,
      "outputs": [
        {
          "output_type": "stream",
          "text": [
            "(813767, 20) (813767,)\n",
            "(203442, 20) (203442,)\n"
          ],
          "name": "stdout"
        }
      ]
    },
    {
      "cell_type": "code",
      "metadata": {
        "colab": {
          "base_uri": "https://localhost:8080/"
        },
        "id": "8l96P2KEUHTY",
        "outputId": "769635da-6d53-4f29-a21f-3ff19d514a8b"
      },
      "source": [
        "clf = linear_model.Lasso(alpha=0.1)\n",
        "clf.fit(X_train,y_train)\n",
        "\n",
        "y_pred=clf.predict(X_test)\n",
        "\n",
        "train_adj_r2_score=round(adjusted_r2(X_train,clf.score(X_train,y_train)),4)\n",
        "test_adj_r2_score=round(adjusted_r2(X_test,clf.score(X_test,y_test)),4)\n",
        "\n",
        "print(\"Train Adj R2 = \",train_adj_r2_score)\n",
        "\n",
        "print(\"Test Adj R2 = \",test_adj_r2_score)"
      ],
      "execution_count": 18,
      "outputs": [
        {
          "output_type": "stream",
          "text": [
            "Train Adj R2 =  0.8955\n",
            "Test Adj R2 =  0.8967\n"
          ],
          "name": "stdout"
        }
      ]
    },
    {
      "cell_type": "code",
      "metadata": {
        "colab": {
          "base_uri": "https://localhost:8080/"
        },
        "id": "qLT9bF1UUHTb",
        "outputId": "bbdc54e7-db97-412f-d6d3-62830e0af725"
      },
      "source": [
        "accuracy.loc['LassoRegression']=[train_adj_r2_score,test_adj_r2_score]\n",
        "print(accuracy)"
      ],
      "execution_count": 19,
      "outputs": [
        {
          "output_type": "stream",
          "text": [
            "                 Train Adjusted R2  Test Adjusted R2\n",
            "LassoRegression             0.8955            0.8967\n"
          ],
          "name": "stdout"
        }
      ]
    },
    {
      "cell_type": "code",
      "metadata": {
        "colab": {
          "base_uri": "https://localhost:8080/",
          "height": 390
        },
        "id": "WUXeAbAMUHTf",
        "outputId": "e71e1b96-2cfe-4890-b69c-ce5840b119e1"
      },
      "source": [
        "#Visualization of Feature Importance\n",
        "\n",
        "coef = pd.Series(clf.coef_, index = X_train.columns)\n",
        "imp_coef = coef.sort_values()\n",
        "matplotlib.rcParams['figure.figsize'] = (6.0, 6.0)\n",
        "imp_coef.plot(kind = \"barh\")\n",
        "plt.title(\"Feature importance using Lasso Model\")\n",
        "#plt.savefig('Ridge-Regression-Feature-Importance.jpg')\n",
        "plt.show()"
      ],
      "execution_count": 20,
      "outputs": [
        {
          "output_type": "display_data",
          "data": {
            "image/png": "[encoded data removed]",
            "text/plain": [
              "<Figure size 432x432 with 1 Axes>"
            ]
          },
          "metadata": {
            "tags": [],
            "needs_background": "light"
          }
        }
      ]
    },
    {
      "cell_type": "markdown",
      "metadata": {
        "id": "TjNJB15LUHTk"
      },
      "source": [
        "## 2. Random Forest Regressor"
      ]
    },
    {
      "cell_type": "code",
      "metadata": {
        "colab": {
          "base_uri": "https://localhost:8080/"
        },
        "id": "rKymwmYiUHTk",
        "outputId": "7c905ef3-cc42-44a5-9fee-8a4b15f866ae"
      },
      "source": [
        "regr = RandomForestRegressor(n_estimators=150,criterion='mse',max_depth=20, random_state=0)\n",
        "regr.fit(X_train, y_train)\n",
        "y_pred=regr.predict(X_test)\n",
        "\n",
        "train_adj_r2_score=round(adjusted_r2(X_train,regr.score(X_train,y_train)),4)\n",
        "test_adj_r2_score=round(adjusted_r2(X_test,regr.score(X_test,y_test)),4)\n",
        "\n",
        "#print(\"Train R2 = \",round(regr.score(X_train,y_train),4))\n",
        "print(\"Train Adj R2 = \",train_adj_r2_score)\n",
        "\n",
        "#print(\"Test R2 = \",round(regr.score(X_test,y_test),4))\n",
        "#print(\"Test Adj R2 = \",test_adj_r2_score)\n",
        "print(\"Test Adj R2 = \",round(adjusted_r2(X_test,r2_score(y_test, y_pred)),4))"
      ],
      "execution_count": 21,
      "outputs": [
        {
          "output_type": "stream",
          "text": [
            "Train Adj R2 =  0.9921\n",
            "Test Adj R2 =  0.9812\n"
          ],
          "name": "stdout"
        }
      ]
    },
    {
      "cell_type": "code",
      "metadata": {
        "colab": {
          "base_uri": "https://localhost:8080/"
        },
        "id": "vX018znJUHTo",
        "outputId": "65bd8f43-8e35-46ef-ee82-410754d796bd"
      },
      "source": [
        "accuracy.loc['RFRegressor']=[train_adj_r2_score,test_adj_r2_score]\n",
        "print(accuracy)"
      ],
      "execution_count": 22,
      "outputs": [
        {
          "output_type": "stream",
          "text": [
            "                 Train Adjusted R2  Test Adjusted R2\n",
            "LassoRegression             0.8955            0.8967\n",
            "RFRegressor                 0.9921            0.9812\n"
          ],
          "name": "stdout"
        }
      ]
    },
    {
      "cell_type": "code",
      "metadata": {
        "colab": {
          "base_uri": "https://localhost:8080/",
          "height": 432
        },
        "id": "UUQP5-csUHTr",
        "outputId": "915db488-f1d2-48a7-f426-c3a1d0599792"
      },
      "source": [
        "importances=regr.feature_importances_\n",
        "features=X_train.columns\n",
        "\n",
        "# Set the style\n",
        "plt.style.use('fivethirtyeight')\n",
        "# list of x locations for plotting\n",
        "x_values = list(range(len(importances)))\n",
        "# Make a bar chart\n",
        "plt.figure(figsize=(6,6))\n",
        "plt.bar(x_values, importances, orientation = ('vertical'))\n",
        "# Tick labels for x axis\n",
        "plt.xticks(x_values, features, rotation=(90))\n",
        "# Axis labels and title\n",
        "plt.ylabel('Importance'); \n",
        "plt.xlabel('Variable/Features'); \n",
        "plt.title('Random Forest Variables Importance')\n",
        "plt.tight_layout()\n",
        "#plt.savefig('Random-Forest-Variables-Importances.jpg',dpi=600)\n",
        "plt.show();"
      ],
      "execution_count": 23,
      "outputs": [
        {
          "output_type": "display_data",
          "data": {
            "image/png": "[encoded data removed]",
            "text/plain": [
              "<Figure size 432x432 with 1 Axes>"
            ]
          },
          "metadata": {
            "tags": []
          }
        }
      ]
    },
    {
      "cell_type": "markdown",
      "metadata": {
        "id": "VVe0-O6-UHTu"
      },
      "source": [
        "## 3. Deep Learning"
      ]
    },
    {
      "cell_type": "code",
      "metadata": {
        "id": "lh8ywUPBUHTu"
      },
      "source": [
        "import torch\n",
        "import torchvision\n",
        "import torchvision.transforms as transforms\n",
        "\n",
        "import torch.nn as nn\n",
        "import torch.optim as optim"
      ],
      "execution_count": 24,
      "outputs": []
    },
    {
      "cell_type": "code",
      "metadata": {
        "colab": {
          "base_uri": "https://localhost:8080/"
        },
        "id": "utLETvE-UHTx",
        "outputId": "b99bc006-be85-40fa-957d-8406806e2653"
      },
      "source": [
        "device = torch.device(\"cuda\" if torch.cuda.is_available() else \"cpu\")\n",
        "device"
      ],
      "execution_count": 25,
      "outputs": [
        {
          "output_type": "execute_result",
          "data": {
            "text/plain": [
              "device(type='cuda')"
            ]
          },
          "metadata": {
            "tags": []
          },
          "execution_count": 25
        }
      ]
    },
    {
      "cell_type": "code",
      "metadata": {
        "id": "HdikexEzUHT0"
      },
      "source": [
        "original_feature=['Store', 'StoreType', 'Assortment', 'CompetitionDistance',\n",
        "       'CompetitionOpenSinceMonth', 'CompetitionOpenSinceYear', 'Promo2',\n",
        "       'Promo2SinceWeek', 'Promo2SinceYear', 'PromoInterval', 'DayOfWeek',\n",
        "       'Customers', 'Open', 'Promo', 'StateHoliday', 'SchoolHoliday']"
      ],
      "execution_count": 26,
      "outputs": []
    },
    {
      "cell_type": "code",
      "metadata": {
        "id": "pdjihidngHff"
      },
      "source": [
        "df_check=pd.read_csv(dataset)\n",
        "df_check.drop('Date',axis=1,inplace=True)\n",
        "df_check=df_check[list(selected_feat)+['Sales']]"
      ],
      "execution_count": 27,
      "outputs": []
    },
    {
      "cell_type": "code",
      "metadata": {
        "id": "jFM6xxNZUHT-"
      },
      "source": [
        "X=df_check\n",
        "y=df_check['Sales'].values\n",
        "X.drop('Sales',axis=1,inplace=True)\n",
        "\n",
        "X_train, X_test, y_train, y_test = train_test_split(X, y, test_size=0.2, random_state=42)"
      ],
      "execution_count": 28,
      "outputs": []
    },
    {
      "cell_type": "code",
      "metadata": {
        "id": "_acwEqfoUHUB"
      },
      "source": [
        "X_train_dl= torch.from_numpy(X_train.values).float()\n",
        "y_train_dl = torch.from_numpy(y_train).view(-1,1).float()\n",
        "\n",
        "\n",
        "X_test_dl= torch.from_numpy(X_test.values).float()\n",
        "y_test_dl = torch.from_numpy(y_test).view(-1,1).float()"
      ],
      "execution_count": 29,
      "outputs": []
    },
    {
      "cell_type": "code",
      "metadata": {
        "id": "lzZVQrkDUHUE"
      },
      "source": [
        "X_train_dl=X_train_dl.to(device)\n",
        "y_train_dl=y_train_dl.to(device)\n",
        "\n",
        "X_test_dl=X_test_dl.to(device)\n",
        "y_test_dl=y_test_dl.to(device)"
      ],
      "execution_count": 30,
      "outputs": []
    },
    {
      "cell_type": "code",
      "metadata": {
        "colab": {
          "base_uri": "https://localhost:8080/"
        },
        "id": "cTBarnrFUHUH",
        "outputId": "70e808a4-44cb-4941-d961-f18da7ee5852"
      },
      "source": [
        "print(X_train_dl.shape,y_train_dl.shape)\n",
        "print(X_test_dl.shape,y_test_dl.shape)"
      ],
      "execution_count": 31,
      "outputs": [
        {
          "output_type": "stream",
          "text": [
            "torch.Size([813767, 20]) torch.Size([813767, 1])\n",
            "torch.Size([203442, 20]) torch.Size([203442, 1])\n"
          ],
          "name": "stdout"
        }
      ]
    },
    {
      "cell_type": "code",
      "metadata": {
        "id": "_IamAEmjUHUK"
      },
      "source": [
        "N_h=100\n",
        "dl_model = torch.nn.Sequential(\n",
        "    torch.nn.Linear(X_train_dl.shape[1], N_h),    \n",
        "    #torch.nn.Dropout(0.5),\n",
        "    torch.nn.ReLU(),\n",
        "    \n",
        "    torch.nn.Linear(N_h, N_h),    \n",
        "    #torch.nn.Dropout(0.5),\n",
        "    torch.nn.ReLU(),\n",
        "\n",
        "    torch.nn.Linear(N_h, N_h),    \n",
        "    #torch.nn.Dropout(0.5),\n",
        "    torch.nn.ReLU(),\n",
        "\n",
        "    torch.nn.Linear(N_h, N_h),    \n",
        "    #torch.nn.Dropout(0.5),\n",
        "    torch.nn.ReLU(),\n",
        "    \n",
        "    torch.nn.Linear(N_h, 1),\n",
        ")"
      ],
      "execution_count": 32,
      "outputs": []
    },
    {
      "cell_type": "code",
      "metadata": {
        "id": "P3HyyJPqUHUO"
      },
      "source": [
        "opt = torch.optim.Adam(dl_model.parameters(),lr=0.005)\n",
        "loss_fn = torch.nn.MSELoss()"
      ],
      "execution_count": 33,
      "outputs": []
    },
    {
      "cell_type": "code",
      "metadata": {
        "id": "1_uHRa85UHUR"
      },
      "source": [
        "dl_model=dl_model.to(device)"
      ],
      "execution_count": 34,
      "outputs": []
    },
    {
      "cell_type": "code",
      "metadata": {
        "colab": {
          "base_uri": "https://localhost:8080/"
        },
        "id": "mo137_DiUHUT",
        "outputId": "188a9460-f7e9-447f-f26d-895fb7737643"
      },
      "source": [
        "max_epochs = 1000\n",
        "loss_arr=[]\n",
        "for epoch in range(max_epochs):\n",
        "    \n",
        "    pred = dl_model(X_train_dl) # look at the entire data in a single shot\n",
        "    loss = loss_fn(pred, y_train_dl)\n",
        "    opt.zero_grad()\n",
        "    loss.backward()\n",
        "    opt.step()\n",
        "    \n",
        "    y_train_numpy=pred.cpu().detach().numpy()\n",
        "    y_pred_numpy=y_train_dl.cpu().detach().numpy()\n",
        "    \n",
        "    r2_score_train=round(r2_score(y_train_numpy, y_pred_numpy),4)\n",
        "    if(epoch % 100==0):\n",
        "      print('Epoch {}/{} , Loss = {} , R2 Score = {}'.format(epoch,max_epochs,loss.item(),r2_score_train))\n",
        "    loss_arr.append(loss.item())"
      ],
      "execution_count": 35,
      "outputs": [
        {
          "output_type": "stream",
          "text": [
            "Epoch 0/1000 , Loss = 48272048.0 , R2 Score = -300155.7025\n",
            "Epoch 100/1000 , Loss = 2004233.0 , R2 Score = 0.8437\n",
            "Epoch 200/1000 , Loss = 2086939.875 , R2 Score = 0.8252\n",
            "Epoch 300/1000 , Loss = 2218098.5 , R2 Score = 0.8068\n",
            "Epoch 400/1000 , Loss = 1782728.5 , R2 Score = 0.8629\n",
            "Epoch 500/1000 , Loss = 1699250.5 , R2 Score = 0.8714\n",
            "Epoch 600/1000 , Loss = 1630091.5 , R2 Score = 0.8787\n",
            "Epoch 700/1000 , Loss = 1536433.875 , R2 Score = 0.8835\n",
            "Epoch 800/1000 , Loss = 1535906.375 , R2 Score = 0.8805\n",
            "Epoch 900/1000 , Loss = 1371868.125 , R2 Score = 0.8975\n"
          ],
          "name": "stdout"
        }
      ]
    },
    {
      "cell_type": "code",
      "metadata": {
        "colab": {
          "base_uri": "https://localhost:8080/",
          "height": 433
        },
        "id": "wEdYwzFSUHUX",
        "outputId": "e200e1e1-597e-4e32-bb53-7c8545ec6c99"
      },
      "source": [
        "plt.plot(loss_arr, 'r-')\n",
        "plt.xlabel('Epoch')\n",
        "plt.ylabel('MSE')\n",
        "plt.show()  "
      ],
      "execution_count": 36,
      "outputs": [
        {
          "output_type": "display_data",
          "data": {
            "image/png": "[encoded data removed]",
            "text/plain": [
              "<Figure size 432x432 with 1 Axes>"
            ]
          },
          "metadata": {
            "tags": []
          }
        }
      ]
    },
    {
      "cell_type": "code",
      "metadata": {
        "id": "6Wdn7EaAUHUa"
      },
      "source": [
        "test_pred = dl_model(X_test_dl)\n",
        "test_loss = loss_fn(test_pred, y_test_dl)\n",
        "test_pred[test_pred<0]=0"
      ],
      "execution_count": 37,
      "outputs": []
    },
    {
      "cell_type": "code",
      "metadata": {
        "colab": {
          "base_uri": "https://localhost:8080/"
        },
        "id": "FT-OmzjSUHUd",
        "outputId": "fe3e638c-a7cd-442f-a93c-2dda9101548d"
      },
      "source": [
        "y_pred_numpy=test_pred.cpu().detach().numpy()\n",
        "y_test_numpy=y_test_dl.cpu().detach().numpy()\n",
        "print(\"Test Adj R2 = \",round(adjusted_r2(X_test,r2_score(y_test_numpy, y_pred_numpy)),4))"
      ],
      "execution_count": 38,
      "outputs": [
        {
          "output_type": "stream",
          "text": [
            "Test Adj R2 =  0.9123\n"
          ],
          "name": "stdout"
        }
      ]
    },
    {
      "cell_type": "code",
      "metadata": {
        "colab": {
          "base_uri": "https://localhost:8080/"
        },
        "id": "9VweEjIUgx40",
        "outputId": "92ec7c73-ebc5-4837-86be-d541d7bd994c"
      },
      "source": [
        "accuracy.loc['DL']=[r2_score_train,round(adjusted_r2(X_test,r2_score(y_test_numpy, y_pred_numpy)),4)]\n",
        "print(accuracy)"
      ],
      "execution_count": 39,
      "outputs": [
        {
          "output_type": "stream",
          "text": [
            "                 Train Adjusted R2  Test Adjusted R2\n",
            "LassoRegression             0.8955            0.8967\n",
            "RFRegressor                 0.9921            0.9812\n",
            "DL                          0.9028            0.9123\n"
          ],
          "name": "stdout"
        }
      ]
    },
    {
      "cell_type": "markdown",
      "metadata": {
        "id": "pKFMTChJiV4X"
      },
      "source": [
        "## Accuracy Comparision"
      ]
    },
    {
      "cell_type": "code",
      "metadata": {
        "colab": {
          "base_uri": "https://localhost:8080/"
        },
        "id": "wQ8disR1ibXX",
        "outputId": "25dc1a9c-01fa-44ad-e300-f87051fdd3f8"
      },
      "source": [
        "accuracy['Train Adjusted R2']=accuracy['Train Adjusted R2']*100\n",
        "print(accuracy['Train Adjusted R2'])"
      ],
      "execution_count": 40,
      "outputs": [
        {
          "output_type": "stream",
          "text": [
            "LassoRegression    89.55\n",
            "RFRegressor        99.21\n",
            "DL                 90.28\n",
            "Name: Train Adjusted R2, dtype: float64\n"
          ],
          "name": "stdout"
        }
      ]
    },
    {
      "cell_type": "code",
      "metadata": {
        "colab": {
          "base_uri": "https://localhost:8080/"
        },
        "id": "GOwVKfB0nNxs",
        "outputId": "8344154b-42b9-4207-82c1-62cbffef06f8"
      },
      "source": [
        "accuracy['Test Adjusted R2']=accuracy['Test Adjusted R2']*100\n",
        "print(accuracy['Test Adjusted R2'])"
      ],
      "execution_count": 41,
      "outputs": [
        {
          "output_type": "stream",
          "text": [
            "LassoRegression    89.67\n",
            "RFRegressor        98.12\n",
            "DL                 91.23\n",
            "Name: Test Adjusted R2, dtype: float64\n"
          ],
          "name": "stdout"
        }
      ]
    },
    {
      "cell_type": "code",
      "metadata": {
        "id": "AOWfwwUIjYor"
      },
      "source": [
        "x=list(range(len(accuracy['Train Adjusted R2'])))\n",
        "y=list(range(80,101,10))"
      ],
      "execution_count": 42,
      "outputs": []
    },
    {
      "cell_type": "code",
      "metadata": {
        "colab": {
          "base_uri": "https://localhost:8080/",
          "height": 441
        },
        "id": "4aa6MzkTiY5l",
        "outputId": "c66231c6-faa0-4601-fa38-b14a51ac3865"
      },
      "source": [
        "props = dict(boxstyle='round', facecolor='white', alpha=0.8)\n",
        "plt.figure(figsize=(20,6))\n",
        "plt.plot(accuracy['Train Adjusted R2'])\n",
        "#plt.yticks(y)\n",
        "#plt.xticks(fontsize=20)\n",
        "#plt.xticks(rotation = (10))\n",
        "plt.xlabel(\"Models\",fontsize=30)\n",
        "plt.ylabel(\"R2 Score(%)\",fontsize=30)\n",
        "plt.title(\"Performance of Models (On Training)\")\n",
        "#plt.text(0, 88, '88',horizontalalignment='center',verticalalignment='center',color='green',bbox=props)\n",
        "for a,b in zip(x,y):\n",
        "    b=accuracy.iloc[a]['Train Adjusted R2']\n",
        "    val=\"(\"+str(round(b,2))+\" %)\"\n",
        "    plt.text(a, b+0.4, val,horizontalalignment='center',verticalalignment='center',color='green',bbox=props)\n",
        "    plt.text(a, b+0.4, '.',horizontalalignment='center',verticalalignment='center',color='red',fontsize=50)"
      ],
      "execution_count": 43,
      "outputs": [
        {
          "output_type": "display_data",
          "data": {
            "image/png": "[encoded data removed]",
            "text/plain": [
              "<Figure size 1440x432 with 1 Axes>"
            ]
          },
          "metadata": {
            "tags": []
          }
        }
      ]
    },
    {
      "cell_type": "code",
      "metadata": {
        "colab": {
          "base_uri": "https://localhost:8080/",
          "height": 440
        },
        "id": "jBRxnYj0irfk",
        "outputId": "e20924f9-c306-4453-e6a4-6ab020f94642"
      },
      "source": [
        "\n",
        "props = dict(boxstyle='round', facecolor='white', alpha=0.8)\n",
        "plt.figure(figsize=(20,6))\n",
        "plt.plot(accuracy['Test Adjusted R2'])\n",
        "#plt.yticks(y)\n",
        "#plt.xticks(fontsize=20)\n",
        "#plt.xticks(rotation = (10))\n",
        "plt.xlabel(\"Models\",fontsize=30)\n",
        "plt.ylabel(\"R2 Score(%)\",fontsize=30)\n",
        "plt.title(\"Performance of Models (On Testing)\")\n",
        "#plt.text(0, 88, '88',horizontalalignment='center',verticalalignment='center',color='green',bbox=props)\n",
        "for a,b in zip(x,y):\n",
        "    b=accuracy.iloc[a]['Test Adjusted R2']\n",
        "    val=\"(\"+str(round(b,2))+\" %)\"\n",
        "    plt.text(a, b+0.3, val,horizontalalignment='center',verticalalignment='center',color='green',bbox=props)\n",
        "    plt.text(a, b+0.3, '.',horizontalalignment='center',verticalalignment='center',color='red',fontsize=50)"
      ],
      "execution_count": 44,
      "outputs": [
        {
          "output_type": "display_data",
          "data": {
            "image/png": "[encoded data removed]",
            "text/plain": [
              "<Figure size 1440x432 with 1 Axes>"
            ]
          },
          "metadata": {
            "tags": []
          }
        }
      ]
    },
    {
      "cell_type": "code",
      "metadata": {
        "id": "8nYEv-iinD0s"
      },
      "source": [
        ""
      ],
      "execution_count": 44,
      "outputs": []
    }
  ]
}