{
  "nbformat": 4,
  "nbformat_minor": 0,
  "metadata": {
    "colab": {
      "name": "Feature_Engineering.ipynb",
      "provenance": []
    },
    "kernelspec": {
      "name": "python3",
      "display_name": "Python 3"
    }
  },
  "cells": [
    {
      "cell_type": "code",
      "metadata": {
        "id": "EKYQYKV3oEyY"
      },
      "source": [
        "import pandas as pd\r\n",
        "import numpy as np\r\n",
        "from sklearn import preprocessing"
      ],
      "execution_count": 1,
      "outputs": []
    },
    {
      "cell_type": "code",
      "metadata": {
        "colab": {
          "base_uri": "https://localhost:8080/"
        },
        "id": "h0zAFqhSoTjP",
        "outputId": "9b83e2eb-559f-400e-964b-402bbdf37496"
      },
      "source": [
        "df=pd.read_csv('/content/drive/MyDrive/Retail Sales Time Series Forecasting/missing_value_handled/missing_value_handled.csv')\r\n",
        "df.info()"
      ],
      "execution_count": 2,
      "outputs": [
        {
          "output_type": "stream",
          "text": [
            "<class 'pandas.core.frame.DataFrame'>\n",
            "RangeIndex: 1017209 entries, 0 to 1017208\n",
            "Data columns (total 18 columns):\n",
            " #   Column                     Non-Null Count    Dtype  \n",
            "---  ------                     --------------    -----  \n",
            " 0   Store                      1017209 non-null  int64  \n",
            " 1   StoreType                  1017209 non-null  object \n",
            " 2   Assortment                 1017209 non-null  object \n",
            " 3   CompetitionDistance        1017209 non-null  float64\n",
            " 4   CompetitionOpenSinceMonth  1017209 non-null  float64\n",
            " 5   CompetitionOpenSinceYear   1017209 non-null  float64\n",
            " 6   Promo2                     1017209 non-null  int64  \n",
            " 7   Promo2SinceWeek            1017209 non-null  float64\n",
            " 8   Promo2SinceYear            1017209 non-null  float64\n",
            " 9   PromoInterval              1017209 non-null  object \n",
            " 10  DayOfWeek                  1017209 non-null  int64  \n",
            " 11  Date                       1017209 non-null  object \n",
            " 12  Sales                      1017209 non-null  int64  \n",
            " 13  Customers                  1017209 non-null  int64  \n",
            " 14  Open                       1017209 non-null  int64  \n",
            " 15  Promo                      1017209 non-null  int64  \n",
            " 16  StateHoliday               1017209 non-null  object \n",
            " 17  SchoolHoliday              1017209 non-null  int64  \n",
            "dtypes: float64(5), int64(8), object(5)\n",
            "memory usage: 139.7+ MB\n"
          ],
          "name": "stdout"
        }
      ]
    },
    {
      "cell_type": "code",
      "metadata": {
        "id": "h1JK_uffop1L"
      },
      "source": [
        "df['Assortment']=df['Assortment'].astype('category')\r\n",
        "df['StoreType']=df['StoreType'].astype('category')\r\n",
        "df['PromoInterval']=df['PromoInterval'].astype('category')\r\n",
        "df['Promo2SinceWeek']=df['Promo2SinceWeek'].astype('category')\r\n",
        "df['Promo2SinceYear']=df['Promo2SinceYear'].astype('category')\r\n",
        "df['StateHoliday']=df['StateHoliday'].astype('category')\r\n",
        "df['Date']=df['Date'].astype('datetime64')"
      ],
      "execution_count": 3,
      "outputs": []
    },
    {
      "cell_type": "code",
      "metadata": {
        "colab": {
          "base_uri": "https://localhost:8080/"
        },
        "id": "DMuCCnYLpYZq",
        "outputId": "7da77b10-d5b7-439f-8261-f18fa1d2d8cd"
      },
      "source": [
        "df.info()\r\n"
      ],
      "execution_count": 4,
      "outputs": [
        {
          "output_type": "stream",
          "text": [
            "<class 'pandas.core.frame.DataFrame'>\n",
            "RangeIndex: 1017209 entries, 0 to 1017208\n",
            "Data columns (total 18 columns):\n",
            " #   Column                     Non-Null Count    Dtype         \n",
            "---  ------                     --------------    -----         \n",
            " 0   Store                      1017209 non-null  int64         \n",
            " 1   StoreType                  1017209 non-null  category      \n",
            " 2   Assortment                 1017209 non-null  category      \n",
            " 3   CompetitionDistance        1017209 non-null  float64       \n",
            " 4   CompetitionOpenSinceMonth  1017209 non-null  float64       \n",
            " 5   CompetitionOpenSinceYear   1017209 non-null  float64       \n",
            " 6   Promo2                     1017209 non-null  int64         \n",
            " 7   Promo2SinceWeek            1017209 non-null  category      \n",
            " 8   Promo2SinceYear            1017209 non-null  category      \n",
            " 9   PromoInterval              1017209 non-null  category      \n",
            " 10  DayOfWeek                  1017209 non-null  int64         \n",
            " 11  Date                       1017209 non-null  datetime64[ns]\n",
            " 12  Sales                      1017209 non-null  int64         \n",
            " 13  Customers                  1017209 non-null  int64         \n",
            " 14  Open                       1017209 non-null  int64         \n",
            " 15  Promo                      1017209 non-null  int64         \n",
            " 16  StateHoliday               1017209 non-null  category      \n",
            " 17  SchoolHoliday              1017209 non-null  int64         \n",
            "dtypes: category(6), datetime64[ns](1), float64(3), int64(8)\n",
            "memory usage: 99.0 MB\n"
          ],
          "name": "stdout"
        }
      ]
    },
    {
      "cell_type": "markdown",
      "metadata": {
        "id": "UDaV0CiJpd4i"
      },
      "source": [
        "# List of Different DataType"
      ]
    },
    {
      "cell_type": "code",
      "metadata": {
        "id": "ZVY2Bgo3pauk"
      },
      "source": [
        "numerical=['Store','CompetitionDistance','Customers']\r\n",
        "\r\n",
        "categorical_binary=['Open','Promo2','SchoolHoliday']\r\n",
        "\r\n",
        "\r\n",
        "categorical_nominal=['StoreType','CompetitionOpenSinceMonth','Date','CompetitionOpenSinceYear','Promo2SinceWeek','Promo2SinceYear','PromoInterval','StateHoliday']\r\n",
        "\r\n",
        "\r\n",
        "categorical_ordinal=['Assortment','DayOfWeek']\r\n",
        "\r\n",
        "\r\n",
        "target=['Sales']"
      ],
      "execution_count": 5,
      "outputs": []
    },
    {
      "cell_type": "markdown",
      "metadata": {
        "id": "U0RCKJjFpk1w"
      },
      "source": [
        "# Label Encoding"
      ]
    },
    {
      "cell_type": "code",
      "metadata": {
        "colab": {
          "base_uri": "https://localhost:8080/"
        },
        "id": "6DEWXM1qpi99",
        "outputId": "11e11c64-0a7f-411f-81ad-efac97415afb"
      },
      "source": [
        "label_encoder = preprocessing.LabelEncoder() \r\n",
        "df['Assortment']= label_encoder.fit_transform(df['Assortment']) \r\n",
        "df['Assortment'].unique()"
      ],
      "execution_count": 6,
      "outputs": [
        {
          "output_type": "execute_result",
          "data": {
            "text/plain": [
              "array([0, 2, 1])"
            ]
          },
          "metadata": {
            "tags": []
          },
          "execution_count": 6
        }
      ]
    },
    {
      "cell_type": "code",
      "metadata": {
        "colab": {
          "base_uri": "https://localhost:8080/"
        },
        "id": "PFPQ4LzOpoeb",
        "outputId": "26c02ad0-4916-4dd5-a65c-c440b42a15a7"
      },
      "source": [
        "df['DayOfWeek']= label_encoder.fit_transform(df['DayOfWeek']) \r\n",
        "df['DayOfWeek'].unique()"
      ],
      "execution_count": 7,
      "outputs": [
        {
          "output_type": "execute_result",
          "data": {
            "text/plain": [
              "array([4, 3, 2, 1, 0, 6, 5])"
            ]
          },
          "metadata": {
            "tags": []
          },
          "execution_count": 7
        }
      ]
    },
    {
      "cell_type": "markdown",
      "metadata": {
        "id": "IzZ1B7IapwWj"
      },
      "source": [
        "# One-Hot Encoding"
      ]
    },
    {
      "cell_type": "markdown",
      "metadata": {
        "id": "K7yvnMcKpzLU"
      },
      "source": [
        "# Encoding for Binary data"
      ]
    },
    {
      "cell_type": "code",
      "metadata": {
        "colab": {
          "base_uri": "https://localhost:8080/"
        },
        "id": "F4L7mwCRpst-",
        "outputId": "8ab56e3a-6a0a-43e1-e3e3-be51291e28c3"
      },
      "source": [
        "print(df['Open'].unique())\r\n",
        "print(df['Promo2'].unique())\r\n",
        "print(df['SchoolHoliday'].unique())"
      ],
      "execution_count": 8,
      "outputs": [
        {
          "output_type": "stream",
          "text": [
            "[1 0]\n",
            "[0 1]\n",
            "[1 0]\n"
          ],
          "name": "stdout"
        }
      ]
    },
    {
      "cell_type": "code",
      "metadata": {
        "colab": {
          "base_uri": "https://localhost:8080/",
          "height": 391
        },
        "id": "WfqCVLu1p3UR",
        "outputId": "eb795150-9e66-4d60-d888-90f4281f70f6"
      },
      "source": [
        "encoded1=pd.get_dummies(df[['Open','Promo2','SchoolHoliday']],columns=['Open','Promo2','SchoolHoliday'],drop_first=False)\r\n",
        "encoded1"
      ],
      "execution_count": 9,
      "outputs": [
        {
          "output_type": "execute_result",
          "data": {
            "text/html": [
              "<div>\n",
              "<style scoped>\n",
              "    .dataframe tbody tr th:only-of-type {\n",
              "        vertical-align: middle;\n",
              "    }\n",
              "\n",
              "    .dataframe tbody tr th {\n",
              "        vertical-align: top;\n",
              "    }\n",
              "\n",
              "    .dataframe thead th {\n",
              "        text-align: right;\n",
              "    }\n",
              "</style>\n",
              "<table border=\"1\" class=\"dataframe\">\n",
              "  <thead>\n",
              "    <tr style=\"text-align: right;\">\n",
              "      <th></th>\n",
              "      <th>Open_0</th>\n",
              "      <th>Open_1</th>\n",
              "      <th>Promo2_0</th>\n",
              "      <th>Promo2_1</th>\n",
              "      <th>SchoolHoliday_0</th>\n",
              "      <th>SchoolHoliday_1</th>\n",
              "    </tr>\n",
              "  </thead>\n",
              "  <tbody>\n",
              "    <tr>\n",
              "      <th>0</th>\n",
              "      <td>0</td>\n",
              "      <td>1</td>\n",
              "      <td>1</td>\n",
              "      <td>0</td>\n",
              "      <td>0</td>\n",
              "      <td>1</td>\n",
              "    </tr>\n",
              "    <tr>\n",
              "      <th>1</th>\n",
              "      <td>0</td>\n",
              "      <td>1</td>\n",
              "      <td>1</td>\n",
              "      <td>0</td>\n",
              "      <td>0</td>\n",
              "      <td>1</td>\n",
              "    </tr>\n",
              "    <tr>\n",
              "      <th>2</th>\n",
              "      <td>0</td>\n",
              "      <td>1</td>\n",
              "      <td>1</td>\n",
              "      <td>0</td>\n",
              "      <td>0</td>\n",
              "      <td>1</td>\n",
              "    </tr>\n",
              "    <tr>\n",
              "      <th>3</th>\n",
              "      <td>0</td>\n",
              "      <td>1</td>\n",
              "      <td>1</td>\n",
              "      <td>0</td>\n",
              "      <td>0</td>\n",
              "      <td>1</td>\n",
              "    </tr>\n",
              "    <tr>\n",
              "      <th>4</th>\n",
              "      <td>0</td>\n",
              "      <td>1</td>\n",
              "      <td>1</td>\n",
              "      <td>0</td>\n",
              "      <td>0</td>\n",
              "      <td>1</td>\n",
              "    </tr>\n",
              "    <tr>\n",
              "      <th>...</th>\n",
              "      <td>...</td>\n",
              "      <td>...</td>\n",
              "      <td>...</td>\n",
              "      <td>...</td>\n",
              "      <td>...</td>\n",
              "      <td>...</td>\n",
              "    </tr>\n",
              "    <tr>\n",
              "      <th>1017204</th>\n",
              "      <td>0</td>\n",
              "      <td>1</td>\n",
              "      <td>0</td>\n",
              "      <td>1</td>\n",
              "      <td>0</td>\n",
              "      <td>1</td>\n",
              "    </tr>\n",
              "    <tr>\n",
              "      <th>1017205</th>\n",
              "      <td>0</td>\n",
              "      <td>1</td>\n",
              "      <td>0</td>\n",
              "      <td>1</td>\n",
              "      <td>0</td>\n",
              "      <td>1</td>\n",
              "    </tr>\n",
              "    <tr>\n",
              "      <th>1017206</th>\n",
              "      <td>0</td>\n",
              "      <td>1</td>\n",
              "      <td>0</td>\n",
              "      <td>1</td>\n",
              "      <td>0</td>\n",
              "      <td>1</td>\n",
              "    </tr>\n",
              "    <tr>\n",
              "      <th>1017207</th>\n",
              "      <td>0</td>\n",
              "      <td>1</td>\n",
              "      <td>0</td>\n",
              "      <td>1</td>\n",
              "      <td>0</td>\n",
              "      <td>1</td>\n",
              "    </tr>\n",
              "    <tr>\n",
              "      <th>1017208</th>\n",
              "      <td>1</td>\n",
              "      <td>0</td>\n",
              "      <td>0</td>\n",
              "      <td>1</td>\n",
              "      <td>0</td>\n",
              "      <td>1</td>\n",
              "    </tr>\n",
              "  </tbody>\n",
              "</table>\n",
              "<p>1017209 rows × 6 columns</p>\n",
              "</div>"
            ],
            "text/plain": [
              "         Open_0  Open_1  Promo2_0  Promo2_1  SchoolHoliday_0  SchoolHoliday_1\n",
              "0             0       1         1         0                0                1\n",
              "1             0       1         1         0                0                1\n",
              "2             0       1         1         0                0                1\n",
              "3             0       1         1         0                0                1\n",
              "4             0       1         1         0                0                1\n",
              "...         ...     ...       ...       ...              ...              ...\n",
              "1017204       0       1         0         1                0                1\n",
              "1017205       0       1         0         1                0                1\n",
              "1017206       0       1         0         1                0                1\n",
              "1017207       0       1         0         1                0                1\n",
              "1017208       1       0         0         1                0                1\n",
              "\n",
              "[1017209 rows x 6 columns]"
            ]
          },
          "metadata": {
            "tags": []
          },
          "execution_count": 9
        }
      ]
    },
    {
      "cell_type": "code",
      "metadata": {
        "id": "IdemlwZKp6eu"
      },
      "source": [
        "df=pd.concat([df,encoded1],axis=1)\r\n"
      ],
      "execution_count": 10,
      "outputs": []
    },
    {
      "cell_type": "code",
      "metadata": {
        "colab": {
          "base_uri": "https://localhost:8080/",
          "height": 157
        },
        "id": "8SEg8p5sp_hI",
        "outputId": "bae8a95d-7bb2-4463-9af3-a5d7a301fa00"
      },
      "source": [
        "df.head(2)\r\n"
      ],
      "execution_count": 11,
      "outputs": [
        {
          "output_type": "execute_result",
          "data": {
            "text/html": [
              "<div>\n",
              "<style scoped>\n",
              "    .dataframe tbody tr th:only-of-type {\n",
              "        vertical-align: middle;\n",
              "    }\n",
              "\n",
              "    .dataframe tbody tr th {\n",
              "        vertical-align: top;\n",
              "    }\n",
              "\n",
              "    .dataframe thead th {\n",
              "        text-align: right;\n",
              "    }\n",
              "</style>\n",
              "<table border=\"1\" class=\"dataframe\">\n",
              "  <thead>\n",
              "    <tr style=\"text-align: right;\">\n",
              "      <th></th>\n",
              "      <th>Store</th>\n",
              "      <th>StoreType</th>\n",
              "      <th>Assortment</th>\n",
              "      <th>CompetitionDistance</th>\n",
              "      <th>CompetitionOpenSinceMonth</th>\n",
              "      <th>CompetitionOpenSinceYear</th>\n",
              "      <th>Promo2</th>\n",
              "      <th>Promo2SinceWeek</th>\n",
              "      <th>Promo2SinceYear</th>\n",
              "      <th>PromoInterval</th>\n",
              "      <th>DayOfWeek</th>\n",
              "      <th>Date</th>\n",
              "      <th>Sales</th>\n",
              "      <th>Customers</th>\n",
              "      <th>Open</th>\n",
              "      <th>Promo</th>\n",
              "      <th>StateHoliday</th>\n",
              "      <th>SchoolHoliday</th>\n",
              "      <th>Open_0</th>\n",
              "      <th>Open_1</th>\n",
              "      <th>Promo2_0</th>\n",
              "      <th>Promo2_1</th>\n",
              "      <th>SchoolHoliday_0</th>\n",
              "      <th>SchoolHoliday_1</th>\n",
              "    </tr>\n",
              "  </thead>\n",
              "  <tbody>\n",
              "    <tr>\n",
              "      <th>0</th>\n",
              "      <td>1</td>\n",
              "      <td>c</td>\n",
              "      <td>0</td>\n",
              "      <td>1270.0</td>\n",
              "      <td>9.0</td>\n",
              "      <td>2008.0</td>\n",
              "      <td>0</td>\n",
              "      <td>0.0</td>\n",
              "      <td>0.0</td>\n",
              "      <td>0</td>\n",
              "      <td>4</td>\n",
              "      <td>2015-07-31</td>\n",
              "      <td>5263</td>\n",
              "      <td>555</td>\n",
              "      <td>1</td>\n",
              "      <td>1</td>\n",
              "      <td>0</td>\n",
              "      <td>1</td>\n",
              "      <td>0</td>\n",
              "      <td>1</td>\n",
              "      <td>1</td>\n",
              "      <td>0</td>\n",
              "      <td>0</td>\n",
              "      <td>1</td>\n",
              "    </tr>\n",
              "    <tr>\n",
              "      <th>1</th>\n",
              "      <td>1</td>\n",
              "      <td>c</td>\n",
              "      <td>0</td>\n",
              "      <td>1270.0</td>\n",
              "      <td>9.0</td>\n",
              "      <td>2008.0</td>\n",
              "      <td>0</td>\n",
              "      <td>0.0</td>\n",
              "      <td>0.0</td>\n",
              "      <td>0</td>\n",
              "      <td>3</td>\n",
              "      <td>2015-07-30</td>\n",
              "      <td>5020</td>\n",
              "      <td>546</td>\n",
              "      <td>1</td>\n",
              "      <td>1</td>\n",
              "      <td>0</td>\n",
              "      <td>1</td>\n",
              "      <td>0</td>\n",
              "      <td>1</td>\n",
              "      <td>1</td>\n",
              "      <td>0</td>\n",
              "      <td>0</td>\n",
              "      <td>1</td>\n",
              "    </tr>\n",
              "  </tbody>\n",
              "</table>\n",
              "</div>"
            ],
            "text/plain": [
              "   Store StoreType  Assortment  ...  Promo2_1  SchoolHoliday_0  SchoolHoliday_1\n",
              "0      1         c           0  ...         0                0                1\n",
              "1      1         c           0  ...         0                0                1\n",
              "\n",
              "[2 rows x 24 columns]"
            ]
          },
          "metadata": {
            "tags": []
          },
          "execution_count": 11
        }
      ]
    },
    {
      "cell_type": "markdown",
      "metadata": {
        "id": "X-BFYis5qDlz"
      },
      "source": [
        "# Encoding for nominal data"
      ]
    },
    {
      "cell_type": "code",
      "metadata": {
        "colab": {
          "base_uri": "https://localhost:8080/"
        },
        "id": "VwwWU5kVqA9_",
        "outputId": "2e55a30c-762f-4a54-dd82-15cf3c3e7d5e"
      },
      "source": [
        "print(df['StoreType'].unique())\r\n",
        "print(df['PromoInterval'].unique())\r\n",
        "print(df['StateHoliday'].unique())"
      ],
      "execution_count": 12,
      "outputs": [
        {
          "output_type": "stream",
          "text": [
            "['c', 'a', 'd', 'b']\n",
            "Categories (4, object): ['c', 'a', 'd', 'b']\n",
            "['0', 'Jan,Apr,Jul,Oct', 'Feb,May,Aug,Nov', 'Mar,Jun,Sept,Dec']\n",
            "Categories (4, object): ['0', 'Jan,Apr,Jul,Oct', 'Feb,May,Aug,Nov', 'Mar,Jun,Sept,Dec']\n",
            "['0', 'a', 'b', 'c']\n",
            "Categories (4, object): ['0', 'a', 'b', 'c']\n"
          ],
          "name": "stdout"
        }
      ]
    },
    {
      "cell_type": "code",
      "metadata": {
        "id": "3sG1BeN-qHNT"
      },
      "source": [
        "PromoInterval_mapping={'0':'0','Jan,Apr,Jul,Oct':'Jan_Apr_Jul_Oct','Feb,May,Aug,Nov':'Feb_May_Aug_Nov','Mar,Jun,Sept,Dec':'Mar_Jun_Sept_Dec'}\r\n",
        "\r\n",
        "df['PromoInterval'] = df['PromoInterval'].map(PromoInterval_mapping)"
      ],
      "execution_count": 13,
      "outputs": []
    },
    {
      "cell_type": "code",
      "metadata": {
        "colab": {
          "base_uri": "https://localhost:8080/"
        },
        "id": "NRRFrWHYqKMx",
        "outputId": "67ada26b-4b42-4010-e7d9-895f99f61adb"
      },
      "source": [
        "print(df['PromoInterval'].unique())\r\n"
      ],
      "execution_count": 14,
      "outputs": [
        {
          "output_type": "stream",
          "text": [
            "['0', 'Jan_Apr_Jul_Oct', 'Feb_May_Aug_Nov', 'Mar_Jun_Sept_Dec']\n",
            "Categories (4, object): ['0', 'Jan_Apr_Jul_Oct', 'Feb_May_Aug_Nov', 'Mar_Jun_Sept_Dec']\n"
          ],
          "name": "stdout"
        }
      ]
    },
    {
      "cell_type": "code",
      "metadata": {
        "colab": {
          "base_uri": "https://localhost:8080/",
          "height": 411
        },
        "id": "AUArZcaxqMNJ",
        "outputId": "ab3f1fde-75b3-45d3-ae39-25063fd38226"
      },
      "source": [
        "encoded2=pd.get_dummies(df[['StoreType','PromoInterval','StateHoliday']],columns=['StoreType','PromoInterval','StateHoliday'])\r\n",
        "encoded2"
      ],
      "execution_count": 15,
      "outputs": [
        {
          "output_type": "execute_result",
          "data": {
            "text/html": [
              "<div>\n",
              "<style scoped>\n",
              "    .dataframe tbody tr th:only-of-type {\n",
              "        vertical-align: middle;\n",
              "    }\n",
              "\n",
              "    .dataframe tbody tr th {\n",
              "        vertical-align: top;\n",
              "    }\n",
              "\n",
              "    .dataframe thead th {\n",
              "        text-align: right;\n",
              "    }\n",
              "</style>\n",
              "<table border=\"1\" class=\"dataframe\">\n",
              "  <thead>\n",
              "    <tr style=\"text-align: right;\">\n",
              "      <th></th>\n",
              "      <th>StoreType_a</th>\n",
              "      <th>StoreType_b</th>\n",
              "      <th>StoreType_c</th>\n",
              "      <th>StoreType_d</th>\n",
              "      <th>PromoInterval_0</th>\n",
              "      <th>PromoInterval_Feb_May_Aug_Nov</th>\n",
              "      <th>PromoInterval_Jan_Apr_Jul_Oct</th>\n",
              "      <th>PromoInterval_Mar_Jun_Sept_Dec</th>\n",
              "      <th>StateHoliday_0</th>\n",
              "      <th>StateHoliday_a</th>\n",
              "      <th>StateHoliday_b</th>\n",
              "      <th>StateHoliday_c</th>\n",
              "    </tr>\n",
              "  </thead>\n",
              "  <tbody>\n",
              "    <tr>\n",
              "      <th>0</th>\n",
              "      <td>0</td>\n",
              "      <td>0</td>\n",
              "      <td>1</td>\n",
              "      <td>0</td>\n",
              "      <td>1</td>\n",
              "      <td>0</td>\n",
              "      <td>0</td>\n",
              "      <td>0</td>\n",
              "      <td>1</td>\n",
              "      <td>0</td>\n",
              "      <td>0</td>\n",
              "      <td>0</td>\n",
              "    </tr>\n",
              "    <tr>\n",
              "      <th>1</th>\n",
              "      <td>0</td>\n",
              "      <td>0</td>\n",
              "      <td>1</td>\n",
              "      <td>0</td>\n",
              "      <td>1</td>\n",
              "      <td>0</td>\n",
              "      <td>0</td>\n",
              "      <td>0</td>\n",
              "      <td>1</td>\n",
              "      <td>0</td>\n",
              "      <td>0</td>\n",
              "      <td>0</td>\n",
              "    </tr>\n",
              "    <tr>\n",
              "      <th>2</th>\n",
              "      <td>0</td>\n",
              "      <td>0</td>\n",
              "      <td>1</td>\n",
              "      <td>0</td>\n",
              "      <td>1</td>\n",
              "      <td>0</td>\n",
              "      <td>0</td>\n",
              "      <td>0</td>\n",
              "      <td>1</td>\n",
              "      <td>0</td>\n",
              "      <td>0</td>\n",
              "      <td>0</td>\n",
              "    </tr>\n",
              "    <tr>\n",
              "      <th>3</th>\n",
              "      <td>0</td>\n",
              "      <td>0</td>\n",
              "      <td>1</td>\n",
              "      <td>0</td>\n",
              "      <td>1</td>\n",
              "      <td>0</td>\n",
              "      <td>0</td>\n",
              "      <td>0</td>\n",
              "      <td>1</td>\n",
              "      <td>0</td>\n",
              "      <td>0</td>\n",
              "      <td>0</td>\n",
              "    </tr>\n",
              "    <tr>\n",
              "      <th>4</th>\n",
              "      <td>0</td>\n",
              "      <td>0</td>\n",
              "      <td>1</td>\n",
              "      <td>0</td>\n",
              "      <td>1</td>\n",
              "      <td>0</td>\n",
              "      <td>0</td>\n",
              "      <td>0</td>\n",
              "      <td>1</td>\n",
              "      <td>0</td>\n",
              "      <td>0</td>\n",
              "      <td>0</td>\n",
              "    </tr>\n",
              "    <tr>\n",
              "      <th>...</th>\n",
              "      <td>...</td>\n",
              "      <td>...</td>\n",
              "      <td>...</td>\n",
              "      <td>...</td>\n",
              "      <td>...</td>\n",
              "      <td>...</td>\n",
              "      <td>...</td>\n",
              "      <td>...</td>\n",
              "      <td>...</td>\n",
              "      <td>...</td>\n",
              "      <td>...</td>\n",
              "      <td>...</td>\n",
              "    </tr>\n",
              "    <tr>\n",
              "      <th>1017204</th>\n",
              "      <td>0</td>\n",
              "      <td>0</td>\n",
              "      <td>0</td>\n",
              "      <td>1</td>\n",
              "      <td>0</td>\n",
              "      <td>0</td>\n",
              "      <td>0</td>\n",
              "      <td>1</td>\n",
              "      <td>1</td>\n",
              "      <td>0</td>\n",
              "      <td>0</td>\n",
              "      <td>0</td>\n",
              "    </tr>\n",
              "    <tr>\n",
              "      <th>1017205</th>\n",
              "      <td>0</td>\n",
              "      <td>0</td>\n",
              "      <td>0</td>\n",
              "      <td>1</td>\n",
              "      <td>0</td>\n",
              "      <td>0</td>\n",
              "      <td>0</td>\n",
              "      <td>1</td>\n",
              "      <td>1</td>\n",
              "      <td>0</td>\n",
              "      <td>0</td>\n",
              "      <td>0</td>\n",
              "    </tr>\n",
              "    <tr>\n",
              "      <th>1017206</th>\n",
              "      <td>0</td>\n",
              "      <td>0</td>\n",
              "      <td>0</td>\n",
              "      <td>1</td>\n",
              "      <td>0</td>\n",
              "      <td>0</td>\n",
              "      <td>0</td>\n",
              "      <td>1</td>\n",
              "      <td>1</td>\n",
              "      <td>0</td>\n",
              "      <td>0</td>\n",
              "      <td>0</td>\n",
              "    </tr>\n",
              "    <tr>\n",
              "      <th>1017207</th>\n",
              "      <td>0</td>\n",
              "      <td>0</td>\n",
              "      <td>0</td>\n",
              "      <td>1</td>\n",
              "      <td>0</td>\n",
              "      <td>0</td>\n",
              "      <td>0</td>\n",
              "      <td>1</td>\n",
              "      <td>1</td>\n",
              "      <td>0</td>\n",
              "      <td>0</td>\n",
              "      <td>0</td>\n",
              "    </tr>\n",
              "    <tr>\n",
              "      <th>1017208</th>\n",
              "      <td>0</td>\n",
              "      <td>0</td>\n",
              "      <td>0</td>\n",
              "      <td>1</td>\n",
              "      <td>0</td>\n",
              "      <td>0</td>\n",
              "      <td>0</td>\n",
              "      <td>1</td>\n",
              "      <td>0</td>\n",
              "      <td>1</td>\n",
              "      <td>0</td>\n",
              "      <td>0</td>\n",
              "    </tr>\n",
              "  </tbody>\n",
              "</table>\n",
              "<p>1017209 rows × 12 columns</p>\n",
              "</div>"
            ],
            "text/plain": [
              "         StoreType_a  StoreType_b  ...  StateHoliday_b  StateHoliday_c\n",
              "0                  0            0  ...               0               0\n",
              "1                  0            0  ...               0               0\n",
              "2                  0            0  ...               0               0\n",
              "3                  0            0  ...               0               0\n",
              "4                  0            0  ...               0               0\n",
              "...              ...          ...  ...             ...             ...\n",
              "1017204            0            0  ...               0               0\n",
              "1017205            0            0  ...               0               0\n",
              "1017206            0            0  ...               0               0\n",
              "1017207            0            0  ...               0               0\n",
              "1017208            0            0  ...               0               0\n",
              "\n",
              "[1017209 rows x 12 columns]"
            ]
          },
          "metadata": {
            "tags": []
          },
          "execution_count": 15
        }
      ]
    },
    {
      "cell_type": "code",
      "metadata": {
        "colab": {
          "base_uri": "https://localhost:8080/",
          "height": 292
        },
        "id": "L89IkOPUqU3O",
        "outputId": "333f6881-b395-46e8-9745-16a89254cc3a"
      },
      "source": [
        "df=pd.concat([df,encoded2],axis=1)\r\n",
        "df.head()\r\n"
      ],
      "execution_count": 16,
      "outputs": [
        {
          "output_type": "execute_result",
          "data": {
            "text/html": [
              "<div>\n",
              "<style scoped>\n",
              "    .dataframe tbody tr th:only-of-type {\n",
              "        vertical-align: middle;\n",
              "    }\n",
              "\n",
              "    .dataframe tbody tr th {\n",
              "        vertical-align: top;\n",
              "    }\n",
              "\n",
              "    .dataframe thead th {\n",
              "        text-align: right;\n",
              "    }\n",
              "</style>\n",
              "<table border=\"1\" class=\"dataframe\">\n",
              "  <thead>\n",
              "    <tr style=\"text-align: right;\">\n",
              "      <th></th>\n",
              "      <th>Store</th>\n",
              "      <th>StoreType</th>\n",
              "      <th>Assortment</th>\n",
              "      <th>CompetitionDistance</th>\n",
              "      <th>CompetitionOpenSinceMonth</th>\n",
              "      <th>CompetitionOpenSinceYear</th>\n",
              "      <th>Promo2</th>\n",
              "      <th>Promo2SinceWeek</th>\n",
              "      <th>Promo2SinceYear</th>\n",
              "      <th>PromoInterval</th>\n",
              "      <th>DayOfWeek</th>\n",
              "      <th>Date</th>\n",
              "      <th>Sales</th>\n",
              "      <th>Customers</th>\n",
              "      <th>Open</th>\n",
              "      <th>Promo</th>\n",
              "      <th>StateHoliday</th>\n",
              "      <th>SchoolHoliday</th>\n",
              "      <th>Open_0</th>\n",
              "      <th>Open_1</th>\n",
              "      <th>Promo2_0</th>\n",
              "      <th>Promo2_1</th>\n",
              "      <th>SchoolHoliday_0</th>\n",
              "      <th>SchoolHoliday_1</th>\n",
              "      <th>StoreType_a</th>\n",
              "      <th>StoreType_b</th>\n",
              "      <th>StoreType_c</th>\n",
              "      <th>StoreType_d</th>\n",
              "      <th>PromoInterval_0</th>\n",
              "      <th>PromoInterval_Feb_May_Aug_Nov</th>\n",
              "      <th>PromoInterval_Jan_Apr_Jul_Oct</th>\n",
              "      <th>PromoInterval_Mar_Jun_Sept_Dec</th>\n",
              "      <th>StateHoliday_0</th>\n",
              "      <th>StateHoliday_a</th>\n",
              "      <th>StateHoliday_b</th>\n",
              "      <th>StateHoliday_c</th>\n",
              "    </tr>\n",
              "  </thead>\n",
              "  <tbody>\n",
              "    <tr>\n",
              "      <th>0</th>\n",
              "      <td>1</td>\n",
              "      <td>c</td>\n",
              "      <td>0</td>\n",
              "      <td>1270.0</td>\n",
              "      <td>9.0</td>\n",
              "      <td>2008.0</td>\n",
              "      <td>0</td>\n",
              "      <td>0.0</td>\n",
              "      <td>0.0</td>\n",
              "      <td>0</td>\n",
              "      <td>4</td>\n",
              "      <td>2015-07-31</td>\n",
              "      <td>5263</td>\n",
              "      <td>555</td>\n",
              "      <td>1</td>\n",
              "      <td>1</td>\n",
              "      <td>0</td>\n",
              "      <td>1</td>\n",
              "      <td>0</td>\n",
              "      <td>1</td>\n",
              "      <td>1</td>\n",
              "      <td>0</td>\n",
              "      <td>0</td>\n",
              "      <td>1</td>\n",
              "      <td>0</td>\n",
              "      <td>0</td>\n",
              "      <td>1</td>\n",
              "      <td>0</td>\n",
              "      <td>1</td>\n",
              "      <td>0</td>\n",
              "      <td>0</td>\n",
              "      <td>0</td>\n",
              "      <td>1</td>\n",
              "      <td>0</td>\n",
              "      <td>0</td>\n",
              "      <td>0</td>\n",
              "    </tr>\n",
              "    <tr>\n",
              "      <th>1</th>\n",
              "      <td>1</td>\n",
              "      <td>c</td>\n",
              "      <td>0</td>\n",
              "      <td>1270.0</td>\n",
              "      <td>9.0</td>\n",
              "      <td>2008.0</td>\n",
              "      <td>0</td>\n",
              "      <td>0.0</td>\n",
              "      <td>0.0</td>\n",
              "      <td>0</td>\n",
              "      <td>3</td>\n",
              "      <td>2015-07-30</td>\n",
              "      <td>5020</td>\n",
              "      <td>546</td>\n",
              "      <td>1</td>\n",
              "      <td>1</td>\n",
              "      <td>0</td>\n",
              "      <td>1</td>\n",
              "      <td>0</td>\n",
              "      <td>1</td>\n",
              "      <td>1</td>\n",
              "      <td>0</td>\n",
              "      <td>0</td>\n",
              "      <td>1</td>\n",
              "      <td>0</td>\n",
              "      <td>0</td>\n",
              "      <td>1</td>\n",
              "      <td>0</td>\n",
              "      <td>1</td>\n",
              "      <td>0</td>\n",
              "      <td>0</td>\n",
              "      <td>0</td>\n",
              "      <td>1</td>\n",
              "      <td>0</td>\n",
              "      <td>0</td>\n",
              "      <td>0</td>\n",
              "    </tr>\n",
              "    <tr>\n",
              "      <th>2</th>\n",
              "      <td>1</td>\n",
              "      <td>c</td>\n",
              "      <td>0</td>\n",
              "      <td>1270.0</td>\n",
              "      <td>9.0</td>\n",
              "      <td>2008.0</td>\n",
              "      <td>0</td>\n",
              "      <td>0.0</td>\n",
              "      <td>0.0</td>\n",
              "      <td>0</td>\n",
              "      <td>2</td>\n",
              "      <td>2015-07-29</td>\n",
              "      <td>4782</td>\n",
              "      <td>523</td>\n",
              "      <td>1</td>\n",
              "      <td>1</td>\n",
              "      <td>0</td>\n",
              "      <td>1</td>\n",
              "      <td>0</td>\n",
              "      <td>1</td>\n",
              "      <td>1</td>\n",
              "      <td>0</td>\n",
              "      <td>0</td>\n",
              "      <td>1</td>\n",
              "      <td>0</td>\n",
              "      <td>0</td>\n",
              "      <td>1</td>\n",
              "      <td>0</td>\n",
              "      <td>1</td>\n",
              "      <td>0</td>\n",
              "      <td>0</td>\n",
              "      <td>0</td>\n",
              "      <td>1</td>\n",
              "      <td>0</td>\n",
              "      <td>0</td>\n",
              "      <td>0</td>\n",
              "    </tr>\n",
              "    <tr>\n",
              "      <th>3</th>\n",
              "      <td>1</td>\n",
              "      <td>c</td>\n",
              "      <td>0</td>\n",
              "      <td>1270.0</td>\n",
              "      <td>9.0</td>\n",
              "      <td>2008.0</td>\n",
              "      <td>0</td>\n",
              "      <td>0.0</td>\n",
              "      <td>0.0</td>\n",
              "      <td>0</td>\n",
              "      <td>1</td>\n",
              "      <td>2015-07-28</td>\n",
              "      <td>5011</td>\n",
              "      <td>560</td>\n",
              "      <td>1</td>\n",
              "      <td>1</td>\n",
              "      <td>0</td>\n",
              "      <td>1</td>\n",
              "      <td>0</td>\n",
              "      <td>1</td>\n",
              "      <td>1</td>\n",
              "      <td>0</td>\n",
              "      <td>0</td>\n",
              "      <td>1</td>\n",
              "      <td>0</td>\n",
              "      <td>0</td>\n",
              "      <td>1</td>\n",
              "      <td>0</td>\n",
              "      <td>1</td>\n",
              "      <td>0</td>\n",
              "      <td>0</td>\n",
              "      <td>0</td>\n",
              "      <td>1</td>\n",
              "      <td>0</td>\n",
              "      <td>0</td>\n",
              "      <td>0</td>\n",
              "    </tr>\n",
              "    <tr>\n",
              "      <th>4</th>\n",
              "      <td>1</td>\n",
              "      <td>c</td>\n",
              "      <td>0</td>\n",
              "      <td>1270.0</td>\n",
              "      <td>9.0</td>\n",
              "      <td>2008.0</td>\n",
              "      <td>0</td>\n",
              "      <td>0.0</td>\n",
              "      <td>0.0</td>\n",
              "      <td>0</td>\n",
              "      <td>0</td>\n",
              "      <td>2015-07-27</td>\n",
              "      <td>6102</td>\n",
              "      <td>612</td>\n",
              "      <td>1</td>\n",
              "      <td>1</td>\n",
              "      <td>0</td>\n",
              "      <td>1</td>\n",
              "      <td>0</td>\n",
              "      <td>1</td>\n",
              "      <td>1</td>\n",
              "      <td>0</td>\n",
              "      <td>0</td>\n",
              "      <td>1</td>\n",
              "      <td>0</td>\n",
              "      <td>0</td>\n",
              "      <td>1</td>\n",
              "      <td>0</td>\n",
              "      <td>1</td>\n",
              "      <td>0</td>\n",
              "      <td>0</td>\n",
              "      <td>0</td>\n",
              "      <td>1</td>\n",
              "      <td>0</td>\n",
              "      <td>0</td>\n",
              "      <td>0</td>\n",
              "    </tr>\n",
              "  </tbody>\n",
              "</table>\n",
              "</div>"
            ],
            "text/plain": [
              "   Store StoreType  Assortment  ...  StateHoliday_a  StateHoliday_b  StateHoliday_c\n",
              "0      1         c           0  ...               0               0               0\n",
              "1      1         c           0  ...               0               0               0\n",
              "2      1         c           0  ...               0               0               0\n",
              "3      1         c           0  ...               0               0               0\n",
              "4      1         c           0  ...               0               0               0\n",
              "\n",
              "[5 rows x 36 columns]"
            ]
          },
          "metadata": {
            "tags": []
          },
          "execution_count": 16
        }
      ]
    },
    {
      "cell_type": "code",
      "metadata": {
        "colab": {
          "base_uri": "https://localhost:8080/"
        },
        "id": "MIQH6gUtqYpd",
        "outputId": "75f777f3-c39d-49d3-ebfe-18a55df356df"
      },
      "source": [
        "print(df['StoreType'].unique())\r\n",
        "print(df['PromoInterval'].unique())\r\n",
        "print(df['StateHoliday'].unique())"
      ],
      "execution_count": 17,
      "outputs": [
        {
          "output_type": "stream",
          "text": [
            "['c', 'a', 'd', 'b']\n",
            "Categories (4, object): ['c', 'a', 'd', 'b']\n",
            "['0', 'Jan_Apr_Jul_Oct', 'Feb_May_Aug_Nov', 'Mar_Jun_Sept_Dec']\n",
            "Categories (4, object): ['0', 'Jan_Apr_Jul_Oct', 'Feb_May_Aug_Nov', 'Mar_Jun_Sept_Dec']\n",
            "['0', 'a', 'b', 'c']\n",
            "Categories (4, object): ['0', 'a', 'b', 'c']\n"
          ],
          "name": "stdout"
        }
      ]
    },
    {
      "cell_type": "code",
      "metadata": {
        "id": "HE2yExATqarM"
      },
      "source": [
        "StoreType_mapping={'a':0,'b':1,'c':2,'d':3}\r\n",
        "PromoInterval_mapping={'0':0,'Jan_Apr_Jul_Oct':1,'Feb_May_Aug_Nov':2,'Mar_Jun_Sept_Dec':3}\r\n",
        "StateHoliday_mapping={'0':0,'a':1,'b':2,'c':3}\r\n",
        "\r\n",
        "df['StoreType']     = df['StoreType'].map(StoreType_mapping)\r\n",
        "df['PromoInterval'] = df['PromoInterval'].map(PromoInterval_mapping)\r\n",
        "df['StateHoliday']     = df['StateHoliday'].map(StateHoliday_mapping)"
      ],
      "execution_count": 18,
      "outputs": []
    },
    {
      "cell_type": "markdown",
      "metadata": {
        "id": "CkQhEHUdqgaU"
      },
      "source": [
        "# Convert/Manage Date column"
      ]
    },
    {
      "cell_type": "code",
      "metadata": {
        "id": "NxHPA3SPqei-"
      },
      "source": [
        "def extend_date_feature(my_df):\r\n",
        "    my_df['Date']=my_df['Date'].astype('datetime64[ns]')\r\n",
        "    my_df.loc[:,'date_year']=my_df['Date'].apply(lambda x: x.year)\r\n",
        "    my_df.loc[:,'date_weekofyear']=my_df['Date'].apply(lambda x: x.weekofyear )\r\n",
        "    my_df.loc[:,'date_month']=my_df['Date'].apply(lambda x: x.month )\r\n",
        "    my_df.loc[:,'date_dayofweek']=my_df['Date'].apply(lambda x: x.dayofweek )\r\n",
        "    my_df.loc[:,'date_day']=my_df['Date'].apply(lambda x: x.day )\r\n",
        "    #my_df=my_df.drop('Date',axis=1)\r\n",
        "    return my_df\r\n",
        "\r\n",
        "f=extend_date_feature(df)"
      ],
      "execution_count": 19,
      "outputs": []
    },
    {
      "cell_type": "code",
      "metadata": {
        "colab": {
          "base_uri": "https://localhost:8080/"
        },
        "id": "my2VD-g9qkIx",
        "outputId": "59921869-fbdd-4f9c-c232-496d045e2d59"
      },
      "source": [
        "df.info()\r\n"
      ],
      "execution_count": 20,
      "outputs": [
        {
          "output_type": "stream",
          "text": [
            "<class 'pandas.core.frame.DataFrame'>\n",
            "RangeIndex: 1017209 entries, 0 to 1017208\n",
            "Data columns (total 41 columns):\n",
            " #   Column                          Non-Null Count    Dtype         \n",
            "---  ------                          --------------    -----         \n",
            " 0   Store                           1017209 non-null  int64         \n",
            " 1   StoreType                       1017209 non-null  category      \n",
            " 2   Assortment                      1017209 non-null  int64         \n",
            " 3   CompetitionDistance             1017209 non-null  float64       \n",
            " 4   CompetitionOpenSinceMonth       1017209 non-null  float64       \n",
            " 5   CompetitionOpenSinceYear        1017209 non-null  float64       \n",
            " 6   Promo2                          1017209 non-null  int64         \n",
            " 7   Promo2SinceWeek                 1017209 non-null  category      \n",
            " 8   Promo2SinceYear                 1017209 non-null  category      \n",
            " 9   PromoInterval                   1017209 non-null  category      \n",
            " 10  DayOfWeek                       1017209 non-null  int64         \n",
            " 11  Date                            1017209 non-null  datetime64[ns]\n",
            " 12  Sales                           1017209 non-null  int64         \n",
            " 13  Customers                       1017209 non-null  int64         \n",
            " 14  Open                            1017209 non-null  int64         \n",
            " 15  Promo                           1017209 non-null  int64         \n",
            " 16  StateHoliday                    1017209 non-null  category      \n",
            " 17  SchoolHoliday                   1017209 non-null  int64         \n",
            " 18  Open_0                          1017209 non-null  uint8         \n",
            " 19  Open_1                          1017209 non-null  uint8         \n",
            " 20  Promo2_0                        1017209 non-null  uint8         \n",
            " 21  Promo2_1                        1017209 non-null  uint8         \n",
            " 22  SchoolHoliday_0                 1017209 non-null  uint8         \n",
            " 23  SchoolHoliday_1                 1017209 non-null  uint8         \n",
            " 24  StoreType_a                     1017209 non-null  uint8         \n",
            " 25  StoreType_b                     1017209 non-null  uint8         \n",
            " 26  StoreType_c                     1017209 non-null  uint8         \n",
            " 27  StoreType_d                     1017209 non-null  uint8         \n",
            " 28  PromoInterval_0                 1017209 non-null  uint8         \n",
            " 29  PromoInterval_Feb_May_Aug_Nov   1017209 non-null  uint8         \n",
            " 30  PromoInterval_Jan_Apr_Jul_Oct   1017209 non-null  uint8         \n",
            " 31  PromoInterval_Mar_Jun_Sept_Dec  1017209 non-null  uint8         \n",
            " 32  StateHoliday_0                  1017209 non-null  uint8         \n",
            " 33  StateHoliday_a                  1017209 non-null  uint8         \n",
            " 34  StateHoliday_b                  1017209 non-null  uint8         \n",
            " 35  StateHoliday_c                  1017209 non-null  uint8         \n",
            " 36  date_year                       1017209 non-null  int64         \n",
            " 37  date_weekofyear                 1017209 non-null  int64         \n",
            " 38  date_month                      1017209 non-null  int64         \n",
            " 39  date_dayofweek                  1017209 non-null  int64         \n",
            " 40  date_day                        1017209 non-null  int64         \n",
            "dtypes: category(5), datetime64[ns](1), float64(3), int64(14), uint8(18)\n",
            "memory usage: 162.0 MB\n"
          ],
          "name": "stdout"
        }
      ]
    },
    {
      "cell_type": "code",
      "metadata": {
        "id": "PUq45mV5qn34"
      },
      "source": [
        "df.to_csv('feature_engneering.csv',index=False)\r\n"
      ],
      "execution_count": 21,
      "outputs": []
    },
    {
      "cell_type": "code",
      "metadata": {
        "id": "7nI58Oaoqqt6"
      },
      "source": [
        ""
      ],
      "execution_count": 21,
      "outputs": []
    }
  ]
}