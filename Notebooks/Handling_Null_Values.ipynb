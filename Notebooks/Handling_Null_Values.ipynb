{
  "nbformat": 4,
  "nbformat_minor": 0,
  "metadata": {
    "colab": {
      "name": "Handling_Null_Values.ipynb",
      "provenance": [],
      "toc_visible": true
    },
    "kernelspec": {
      "name": "python3",
      "display_name": "Python 3"
    },
    "accelerator": "GPU"
  },
  "cells": [
    {
      "cell_type": "code",
      "metadata": {
        "id": "pFFJf7Fhje6-"
      },
      "source": [
        "import pandas as pd\r\n",
        "import numpy as np\r\n",
        "import seaborn as sns\r\n",
        "import matplotlib.pyplot as plt\r\n",
        "from sklearn.impute import SimpleImputer\r\n",
        "from sklearn.experimental import enable_iterative_imputer \r\n",
        "\r\n"
      ],
      "execution_count": 1,
      "outputs": []
    },
    {
      "cell_type": "code",
      "metadata": {
        "id": "fUWfsKPmj38s"
      },
      "source": [
        "df1=pd.read_csv('/content/drive/MyDrive/Retail Sales Time Series Forecasting/Data/store.csv')\r\n"
      ],
      "execution_count": 2,
      "outputs": []
    },
    {
      "cell_type": "code",
      "metadata": {
        "colab": {
          "base_uri": "https://localhost:8080/"
        },
        "id": "iZpB4U5VkOsk",
        "outputId": "d1debe07-12f6-40f8-ef94-1904d3583a5d"
      },
      "source": [
        "df2=pd.read_csv('/content/drive/MyDrive/Retail Sales Time Series Forecasting/Data/train.csv')\r\n"
      ],
      "execution_count": 3,
      "outputs": [
        {
          "output_type": "stream",
          "text": [
            "/usr/local/lib/python3.6/dist-packages/IPython/core/interactiveshell.py:2718: DtypeWarning: Columns (7) have mixed types.Specify dtype option on import or set low_memory=False.\n",
            "  interactivity=interactivity, compiler=compiler, result=result)\n"
          ],
          "name": "stderr"
        }
      ]
    },
    {
      "cell_type": "code",
      "metadata": {
        "colab": {
          "base_uri": "https://localhost:8080/"
        },
        "id": "2VwOux-PkUTZ",
        "outputId": "33cbb3de-7bd0-4277-a61e-b0856a62f82f"
      },
      "source": [
        "df=df1.merge(df2,how='left')\r\n",
        "print(df.isnull().sum())"
      ],
      "execution_count": 4,
      "outputs": [
        {
          "output_type": "stream",
          "text": [
            "Store                             0\n",
            "StoreType                         0\n",
            "Assortment                        0\n",
            "CompetitionDistance            2642\n",
            "CompetitionOpenSinceMonth    323348\n",
            "CompetitionOpenSinceYear     323348\n",
            "Promo2                            0\n",
            "Promo2SinceWeek              508031\n",
            "Promo2SinceYear              508031\n",
            "PromoInterval                508031\n",
            "DayOfWeek                         0\n",
            "Date                              0\n",
            "Sales                             0\n",
            "Customers                         0\n",
            "Open                              0\n",
            "Promo                             0\n",
            "StateHoliday                      0\n",
            "SchoolHoliday                     0\n",
            "dtype: int64\n"
          ],
          "name": "stdout"
        }
      ]
    },
    {
      "cell_type": "code",
      "metadata": {
        "colab": {
          "base_uri": "https://localhost:8080/",
          "height": 297
        },
        "id": "eRKIeYP2kYjV",
        "outputId": "e715811a-e21d-420e-a944-742834aeda11"
      },
      "source": [
        "sns.heatmap(df.isnull(),yticklabels=False,cbar=True,cmap='Accent')\r\n",
        "plt.title(\"Fig 1:Missing Values in Rossmann Dataset\")\r\n",
        "plt.tight_layout()\r\n",
        "plt.show()"
      ],
      "execution_count": 5,
      "outputs": [
        {
          "output_type": "display_data",
          "data": {
            "image/png": "[encoded data removed]",
            "text/plain": [
              "<Figure size 432x288 with 2 Axes>"
            ]
          },
          "metadata": {
            "tags": [],
            "needs_background": "light"
          }
        }
      ]
    },
    {
      "cell_type": "code",
      "metadata": {
        "colab": {
          "base_uri": "https://localhost:8080/"
        },
        "id": "tRFe9WV3keeR",
        "outputId": "5deba3a1-7318-4a64-861c-98fa6cc4075c"
      },
      "source": [
        "df.info()\r\n"
      ],
      "execution_count": 6,
      "outputs": [
        {
          "output_type": "stream",
          "text": [
            "<class 'pandas.core.frame.DataFrame'>\n",
            "Int64Index: 1017209 entries, 0 to 1017208\n",
            "Data columns (total 18 columns):\n",
            " #   Column                     Non-Null Count    Dtype  \n",
            "---  ------                     --------------    -----  \n",
            " 0   Store                      1017209 non-null  int64  \n",
            " 1   StoreType                  1017209 non-null  object \n",
            " 2   Assortment                 1017209 non-null  object \n",
            " 3   CompetitionDistance        1014567 non-null  float64\n",
            " 4   CompetitionOpenSinceMonth  693861 non-null   float64\n",
            " 5   CompetitionOpenSinceYear   693861 non-null   float64\n",
            " 6   Promo2                     1017209 non-null  int64  \n",
            " 7   Promo2SinceWeek            509178 non-null   float64\n",
            " 8   Promo2SinceYear            509178 non-null   float64\n",
            " 9   PromoInterval              509178 non-null   object \n",
            " 10  DayOfWeek                  1017209 non-null  int64  \n",
            " 11  Date                       1017209 non-null  object \n",
            " 12  Sales                      1017209 non-null  int64  \n",
            " 13  Customers                  1017209 non-null  int64  \n",
            " 14  Open                       1017209 non-null  int64  \n",
            " 15  Promo                      1017209 non-null  int64  \n",
            " 16  StateHoliday               1017209 non-null  object \n",
            " 17  SchoolHoliday              1017209 non-null  int64  \n",
            "dtypes: float64(5), int64(8), object(5)\n",
            "memory usage: 147.5+ MB\n"
          ],
          "name": "stdout"
        }
      ]
    },
    {
      "cell_type": "markdown",
      "metadata": {
        "id": "HNJhQasllGNH"
      },
      "source": [
        "# List of different DataTypes\r\n"
      ]
    },
    {
      "cell_type": "code",
      "metadata": {
        "id": "V1z-pclXlCKL"
      },
      "source": [
        "numerical=['Store','CompetitionDistance','Customers']\r\n",
        "\r\n",
        "categorical_binary=['Open','Promo2','SchoolHoliday']\r\n",
        "\r\n",
        "\r\n",
        "categorical_nominal=['StoreType','CompetitionOpenSinceMonth','Date','CompetitionOpenSinceYear','Promo2SinceWeek','Promo2SinceYear','PromoInterval','StateHoliday']\r\n",
        "\r\n",
        "#column by col encoder\r\n",
        "categorical_ordinal=['Assortment','DayOfWeek']\r\n",
        "#label encoder\r\n",
        "\r\n",
        "target=['Sales']"
      ],
      "execution_count": 7,
      "outputs": []
    },
    {
      "cell_type": "markdown",
      "metadata": {
        "id": "to_tfoT-lea2"
      },
      "source": [
        "# Fill NaN values\r\n",
        "\r\n",
        "## Filling up 'Promo2SinceWeek','Promo2SinceYear','PromoInterval' columns"
      ]
    },
    {
      "cell_type": "code",
      "metadata": {
        "colab": {
          "base_uri": "https://localhost:8080/"
        },
        "id": "Dmwju8EElVIX",
        "outputId": "8161ba8d-fb1b-4dc6-81cd-65a3d3d18793"
      },
      "source": [
        "df['Promo2SinceWeek'].fillna('0',inplace=True)\r\n",
        "df['Promo2SinceYear'].fillna('0',inplace=True)\r\n",
        "df['PromoInterval'].fillna('0',inplace=True)\r\n",
        "\r\n",
        "print(df.isnull().sum())"
      ],
      "execution_count": 8,
      "outputs": [
        {
          "output_type": "stream",
          "text": [
            "Store                             0\n",
            "StoreType                         0\n",
            "Assortment                        0\n",
            "CompetitionDistance            2642\n",
            "CompetitionOpenSinceMonth    323348\n",
            "CompetitionOpenSinceYear     323348\n",
            "Promo2                            0\n",
            "Promo2SinceWeek                   0\n",
            "Promo2SinceYear                   0\n",
            "PromoInterval                     0\n",
            "DayOfWeek                         0\n",
            "Date                              0\n",
            "Sales                             0\n",
            "Customers                         0\n",
            "Open                              0\n",
            "Promo                             0\n",
            "StateHoliday                      0\n",
            "SchoolHoliday                     0\n",
            "dtype: int64\n"
          ],
          "name": "stdout"
        }
      ]
    },
    {
      "cell_type": "markdown",
      "metadata": {
        "id": "9Zxy8yfolvYe"
      },
      "source": [
        "# Filling up 'CompetitionDistance' column."
      ]
    },
    {
      "cell_type": "code",
      "metadata": {
        "id": "OiBG_cMelmEk"
      },
      "source": [
        "imp_mean = SimpleImputer( strategy='mean') \r\n",
        "imp_mean.fit(df[['CompetitionDistance']])\r\n",
        "df[['CompetitionDistance']] = imp_mean.transform(df[['CompetitionDistance']])"
      ],
      "execution_count": 9,
      "outputs": []
    },
    {
      "cell_type": "markdown",
      "metadata": {
        "id": "GIcLQs3Tl7DY"
      },
      "source": [
        "# Filling up 'CompetitionOpenSinceMonth','CompetitionOpenSinceYear'"
      ]
    },
    {
      "cell_type": "code",
      "metadata": {
        "id": "mkyGVI3Bl3OK"
      },
      "source": [
        "imp_mean = SimpleImputer( strategy='median') \r\n",
        "imp_mean.fit(df[['CompetitionOpenSinceMonth']])\r\n",
        "df[['CompetitionOpenSinceMonth']] = imp_mean.transform(df[['CompetitionOpenSinceMonth']])"
      ],
      "execution_count": 10,
      "outputs": []
    },
    {
      "cell_type": "code",
      "metadata": {
        "id": "a2u20IIyl_-J"
      },
      "source": [
        "imp_mean = SimpleImputer( strategy='median') \r\n",
        "imp_mean.fit(df[['CompetitionOpenSinceYear']])\r\n",
        "df[['CompetitionOpenSinceYear']] = imp_mean.transform(df[['CompetitionOpenSinceYear']])"
      ],
      "execution_count": 11,
      "outputs": []
    },
    {
      "cell_type": "code",
      "metadata": {
        "colab": {
          "base_uri": "https://localhost:8080/"
        },
        "id": "5L3vb-J1mDMn",
        "outputId": "80e3db37-d0bf-45a5-f20b-566a17f85e5e"
      },
      "source": [
        "print(df.isnull().sum())\r\n"
      ],
      "execution_count": 12,
      "outputs": [
        {
          "output_type": "stream",
          "text": [
            "Store                        0\n",
            "StoreType                    0\n",
            "Assortment                   0\n",
            "CompetitionDistance          0\n",
            "CompetitionOpenSinceMonth    0\n",
            "CompetitionOpenSinceYear     0\n",
            "Promo2                       0\n",
            "Promo2SinceWeek              0\n",
            "Promo2SinceYear              0\n",
            "PromoInterval                0\n",
            "DayOfWeek                    0\n",
            "Date                         0\n",
            "Sales                        0\n",
            "Customers                    0\n",
            "Open                         0\n",
            "Promo                        0\n",
            "StateHoliday                 0\n",
            "SchoolHoliday                0\n",
            "dtype: int64\n"
          ],
          "name": "stdout"
        }
      ]
    },
    {
      "cell_type": "markdown",
      "metadata": {
        "id": "7b2GW8ajmIyO"
      },
      "source": [
        "# Change of Datatype\r\n"
      ]
    },
    {
      "cell_type": "code",
      "metadata": {
        "id": "uoPkkfj1mFFc"
      },
      "source": [
        "df['Assortment']=df['Assortment'].astype('category')\r\n",
        "df['StoreType']=df['StoreType'].astype('category')\r\n",
        "df['PromoInterval']=df['PromoInterval'].astype('category')\r\n",
        "df['Promo2SinceWeek']=df['Promo2SinceWeek'].astype('category')\r\n",
        "df['Promo2SinceYear']=df['Promo2SinceYear'].astype('category')\r\n",
        "df['StateHoliday']=df['StateHoliday'].astype('category')\r\n",
        "df['Date']=df['Date'].astype('datetime64')"
      ],
      "execution_count": 13,
      "outputs": []
    },
    {
      "cell_type": "code",
      "metadata": {
        "colab": {
          "base_uri": "https://localhost:8080/"
        },
        "id": "IzLF6BT3mMQh",
        "outputId": "fa129d4c-7aed-4aa0-e46e-80703057f094"
      },
      "source": [
        "df.info()\r\n"
      ],
      "execution_count": 14,
      "outputs": [
        {
          "output_type": "stream",
          "text": [
            "<class 'pandas.core.frame.DataFrame'>\n",
            "Int64Index: 1017209 entries, 0 to 1017208\n",
            "Data columns (total 18 columns):\n",
            " #   Column                     Non-Null Count    Dtype         \n",
            "---  ------                     --------------    -----         \n",
            " 0   Store                      1017209 non-null  int64         \n",
            " 1   StoreType                  1017209 non-null  category      \n",
            " 2   Assortment                 1017209 non-null  category      \n",
            " 3   CompetitionDistance        1017209 non-null  float64       \n",
            " 4   CompetitionOpenSinceMonth  1017209 non-null  float64       \n",
            " 5   CompetitionOpenSinceYear   1017209 non-null  float64       \n",
            " 6   Promo2                     1017209 non-null  int64         \n",
            " 7   Promo2SinceWeek            1017209 non-null  category      \n",
            " 8   Promo2SinceYear            1017209 non-null  category      \n",
            " 9   PromoInterval              1017209 non-null  category      \n",
            " 10  DayOfWeek                  1017209 non-null  int64         \n",
            " 11  Date                       1017209 non-null  datetime64[ns]\n",
            " 12  Sales                      1017209 non-null  int64         \n",
            " 13  Customers                  1017209 non-null  int64         \n",
            " 14  Open                       1017209 non-null  int64         \n",
            " 15  Promo                      1017209 non-null  int64         \n",
            " 16  StateHoliday               1017209 non-null  category      \n",
            " 17  SchoolHoliday              1017209 non-null  int64         \n",
            "dtypes: category(6), datetime64[ns](1), float64(3), int64(8)\n",
            "memory usage: 106.7 MB\n"
          ],
          "name": "stdout"
        }
      ]
    },
    {
      "cell_type": "code",
      "metadata": {
        "id": "7YM8tO26mOqu"
      },
      "source": [
        "df.to_csv('MISSING_VALUE_HANDLED',index=False)\r\n"
      ],
      "execution_count": 15,
      "outputs": []
    },
    {
      "cell_type": "code",
      "metadata": {
        "id": "U52_jQ7KmTU_"
      },
      "source": [
        ""
      ],
      "execution_count": 15,
      "outputs": []
    }
  ]
}